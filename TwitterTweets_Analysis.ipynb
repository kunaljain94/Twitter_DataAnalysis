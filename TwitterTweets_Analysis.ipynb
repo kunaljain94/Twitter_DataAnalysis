{
 "cells": [
  {
   "cell_type": "code",
   "execution_count": null,
   "metadata": {
    "colab": {
     "base_uri": "https://localhost:8080/",
     "height": 122
    },
    "colab_type": "code",
    "executionInfo": {
     "elapsed": 26611,
     "status": "ok",
     "timestamp": 1595765283191,
     "user": {
      "displayName": "kunal jain",
      "photoUrl": "https://lh3.googleusercontent.com/a-/AOh14GhJmDwfUH7SYqmJEVfeaie-qShVuFAR3LrgWe_iow=s64",
      "userId": "04911494507403859258"
     },
     "user_tz": -330
    },
    "id": "gSD0kg6tAbf4",
    "outputId": "6b0bbfec-d8c2-441e-eff9-cd1e0ff5db7a"
   },
   "outputs": [
    {
     "name": "stdout",
     "output_type": "stream",
     "text": [
      "Go to this URL in a browser: ******\n",
      "\n",
      "Enter your authorization code:\n",
      "··········\n",
      "Mounted at /content/drive/\n"
     ]
    }
   ],
   "source": [
    "from google.colab import drive\n",
    "drive.mount('/content/drive/',force_remount=True)"
   ]
  },
  {
   "cell_type": "code",
   "execution_count": 102,
   "metadata": {
    "colab": {},
    "colab_type": "code",
    "executionInfo": {
     "elapsed": 1083,
     "status": "ok",
     "timestamp": 1595799939730,
     "user": {
      "displayName": "kunal jain",
      "photoUrl": "https://lh3.googleusercontent.com/a-/AOh14GhJmDwfUH7SYqmJEVfeaie-qShVuFAR3LrgWe_iow=s64",
      "userId": "04911494507403859258"
     },
     "user_tz": -330
    },
    "id": "YF7ksqUGlZLu"
   },
   "outputs": [],
   "source": [
    "import pandas as pd\n",
    "import numpy as np\n",
    "import matplotlib.pyplot as plt\n",
    "import seaborn as sns"
   ]
  },
  {
   "cell_type": "markdown",
   "metadata": {
    "colab": {},
    "colab_type": "code",
    "executionInfo": {
     "elapsed": 3089,
     "status": "ok",
     "timestamp": 1595785861671,
     "user": {
      "displayName": "kunal jain",
      "photoUrl": "https://lh3.googleusercontent.com/a-/AOh14GhJmDwfUH7SYqmJEVfeaie-qShVuFAR3LrgWe_iow=s64",
      "userId": "04911494507403859258"
     },
     "user_tz": -330
    },
    "id": "TdYb23YyCiyv"
   },
   "source": [
    "Loading data"
   ]
  },
  {
   "cell_type": "code",
   "execution_count": 103,
   "metadata": {
    "colab": {},
    "colab_type": "code",
    "executionInfo": {
     "elapsed": 15509,
     "status": "ok",
     "timestamp": 1595799961697,
     "user": {
      "displayName": "kunal jain",
      "photoUrl": "https://lh3.googleusercontent.com/a-/AOh14GhJmDwfUH7SYqmJEVfeaie-qShVuFAR3LrgWe_iow=s64",
      "userId": "04911494507403859258"
     },
     "user_tz": -330
    },
    "id": "5hXPTMkTBwho"
   },
   "outputs": [],
   "source": [
    "data_path='/content/drive/My Drive/Colab Notebooks/twcs.csv'\n",
    "df=pd.read_csv(data_path)"
   ]
  },
  {
   "cell_type": "code",
   "execution_count": null,
   "metadata": {
    "colab": {
     "base_uri": "https://localhost:8080/",
     "height": 289
    },
    "colab_type": "code",
    "executionInfo": {
     "elapsed": 929,
     "status": "ok",
     "timestamp": 1595766449357,
     "user": {
      "displayName": "kunal jain",
      "photoUrl": "https://lh3.googleusercontent.com/a-/AOh14GhJmDwfUH7SYqmJEVfeaie-qShVuFAR3LrgWe_iow=s64",
      "userId": "04911494507403859258"
     },
     "user_tz": -330
    },
    "id": "YNlpWByxlul5",
    "outputId": "08d84ef5-0de4-4f0f-8342-ed5a7f0a968c"
   },
   "outputs": [
    {
     "data": {
      "text/html": [
       "<div>\n",
       "<style scoped>\n",
       "    .dataframe tbody tr th:only-of-type {\n",
       "        vertical-align: middle;\n",
       "    }\n",
       "\n",
       "    .dataframe tbody tr th {\n",
       "        vertical-align: top;\n",
       "    }\n",
       "\n",
       "    .dataframe thead th {\n",
       "        text-align: right;\n",
       "    }\n",
       "</style>\n",
       "<table border=\"1\" class=\"dataframe\">\n",
       "  <thead>\n",
       "    <tr style=\"text-align: right;\">\n",
       "      <th></th>\n",
       "      <th>tweet_id</th>\n",
       "      <th>author_id</th>\n",
       "      <th>inbound</th>\n",
       "      <th>created_at</th>\n",
       "      <th>text</th>\n",
       "      <th>response_tweet_id</th>\n",
       "      <th>in_response_to_tweet_id</th>\n",
       "    </tr>\n",
       "  </thead>\n",
       "  <tbody>\n",
       "    <tr>\n",
       "      <th>2507671</th>\n",
       "      <td>2677427</td>\n",
       "      <td>AppleSupport</td>\n",
       "      <td>False</td>\n",
       "      <td>Tue Oct 31 14:23:31 +0000 2017</td>\n",
       "      <td>@244392 Absolutely! We’ll be glad to see how w...</td>\n",
       "      <td>2677428</td>\n",
       "      <td>2677429.0</td>\n",
       "    </tr>\n",
       "    <tr>\n",
       "      <th>892456</th>\n",
       "      <td>991395</td>\n",
       "      <td>354848</td>\n",
       "      <td>True</td>\n",
       "      <td>Sun Oct 22 04:03:45 +0000 2017</td>\n",
       "      <td>@British_Airways will here be any disruptions ...</td>\n",
       "      <td>991396,991394</td>\n",
       "      <td>NaN</td>\n",
       "    </tr>\n",
       "    <tr>\n",
       "      <th>636400</th>\n",
       "      <td>713019</td>\n",
       "      <td>290532</td>\n",
       "      <td>True</td>\n",
       "      <td>Tue Oct 10 22:12:05 +0000 2017</td>\n",
       "      <td>@AmericanAir how long will I have to wait befo...</td>\n",
       "      <td>713018</td>\n",
       "      <td>NaN</td>\n",
       "    </tr>\n",
       "    <tr>\n",
       "      <th>2421762</th>\n",
       "      <td>2590549</td>\n",
       "      <td>733753</td>\n",
       "      <td>True</td>\n",
       "      <td>Mon Oct 30 19:03:39 +0000 2017</td>\n",
       "      <td>@440556 @115817 My package is lost toooo. 😡</td>\n",
       "      <td>2590548</td>\n",
       "      <td>2590550.0</td>\n",
       "    </tr>\n",
       "    <tr>\n",
       "      <th>1949118</th>\n",
       "      <td>2104095</td>\n",
       "      <td>621197</td>\n",
       "      <td>True</td>\n",
       "      <td>Wed Nov 08 12:12:37 +0000 2017</td>\n",
       "      <td>Anyone who complains about the Wi-fi not worki...</td>\n",
       "      <td>2104094,2104096,2104097,2104098,2104099,210410...</td>\n",
       "      <td>NaN</td>\n",
       "    </tr>\n",
       "  </tbody>\n",
       "</table>\n",
       "</div>"
      ],
      "text/plain": [
       "         tweet_id  ... in_response_to_tweet_id\n",
       "2507671   2677427  ...               2677429.0\n",
       "892456     991395  ...                     NaN\n",
       "636400     713019  ...                     NaN\n",
       "2421762   2590549  ...               2590550.0\n",
       "1949118   2104095  ...                     NaN\n",
       "\n",
       "[5 rows x 7 columns]"
      ]
     },
     "execution_count": 5,
     "metadata": {
      "tags": []
     },
     "output_type": "execute_result"
    }
   ],
   "source": [
    "df.head()"
   ]
  },
  {
   "cell_type": "code",
   "execution_count": null,
   "metadata": {
    "colab": {
     "base_uri": "https://localhost:8080/",
     "height": 34
    },
    "colab_type": "code",
    "executionInfo": {
     "elapsed": 953,
     "status": "ok",
     "timestamp": 1595766509907,
     "user": {
      "displayName": "kunal jain",
      "photoUrl": "https://lh3.googleusercontent.com/a-/AOh14GhJmDwfUH7SYqmJEVfeaie-qShVuFAR3LrgWe_iow=s64",
      "userId": "04911494507403859258"
     },
     "user_tz": -330
    },
    "id": "X9KnUZhBnxiv",
    "outputId": "511c5725-4136-4ade-a888-cc1f3d688d41"
   },
   "outputs": [
    {
     "data": {
      "text/plain": [
       "(2811774, 7)"
      ]
     },
     "execution_count": 11,
     "metadata": {
      "tags": []
     },
     "output_type": "execute_result"
    }
   ],
   "source": [
    "df.shape"
   ]
  },
  {
   "cell_type": "code",
   "execution_count": null,
   "metadata": {
    "colab": {
     "base_uri": "https://localhost:8080/",
     "height": 255
    },
    "colab_type": "code",
    "executionInfo": {
     "elapsed": 942,
     "status": "ok",
     "timestamp": 1595766542704,
     "user": {
      "displayName": "kunal jain",
      "photoUrl": "https://lh3.googleusercontent.com/a-/AOh14GhJmDwfUH7SYqmJEVfeaie-qShVuFAR3LrgWe_iow=s64",
      "userId": "04911494507403859258"
     },
     "user_tz": -330
    },
    "id": "U8kg62jSl4I_",
    "outputId": "6d85e366-90d7-4337-b9b2-b9c73eff6a40"
   },
   "outputs": [
    {
     "name": "stdout",
     "output_type": "stream",
     "text": [
      "<class 'pandas.core.frame.DataFrame'>\n",
      "RangeIndex: 2811774 entries, 0 to 2811773\n",
      "Data columns (total 7 columns):\n",
      " #   Column                   Dtype  \n",
      "---  ------                   -----  \n",
      " 0   tweet_id                 int64  \n",
      " 1   author_id                object \n",
      " 2   inbound                  bool   \n",
      " 3   created_at               object \n",
      " 4   text                     object \n",
      " 5   response_tweet_id        object \n",
      " 6   in_response_to_tweet_id  float64\n",
      "dtypes: bool(1), float64(1), int64(1), object(4)\n",
      "memory usage: 131.4+ MB\n"
     ]
    }
   ],
   "source": [
    "df.info()"
   ]
  },
  {
   "cell_type": "code",
   "execution_count": null,
   "metadata": {
    "colab": {
     "base_uri": "https://localhost:8080/",
     "height": 297
    },
    "colab_type": "code",
    "executionInfo": {
     "elapsed": 975,
     "status": "ok",
     "timestamp": 1595766463601,
     "user": {
      "displayName": "kunal jain",
      "photoUrl": "https://lh3.googleusercontent.com/a-/AOh14GhJmDwfUH7SYqmJEVfeaie-qShVuFAR3LrgWe_iow=s64",
      "userId": "04911494507403859258"
     },
     "user_tz": -330
    },
    "id": "i5NgR1remYH9",
    "outputId": "35ed02f4-de2a-4c30-bfbb-de0600681842"
   },
   "outputs": [
    {
     "data": {
      "text/html": [
       "<div>\n",
       "<style scoped>\n",
       "    .dataframe tbody tr th:only-of-type {\n",
       "        vertical-align: middle;\n",
       "    }\n",
       "\n",
       "    .dataframe tbody tr th {\n",
       "        vertical-align: top;\n",
       "    }\n",
       "\n",
       "    .dataframe thead th {\n",
       "        text-align: right;\n",
       "    }\n",
       "</style>\n",
       "<table border=\"1\" class=\"dataframe\">\n",
       "  <thead>\n",
       "    <tr style=\"text-align: right;\">\n",
       "      <th></th>\n",
       "      <th>tweet_id</th>\n",
       "      <th>in_response_to_tweet_id</th>\n",
       "    </tr>\n",
       "  </thead>\n",
       "  <tbody>\n",
       "    <tr>\n",
       "      <th>count</th>\n",
       "      <td>3.000000e+05</td>\n",
       "      <td>2.151030e+05</td>\n",
       "    </tr>\n",
       "    <tr>\n",
       "      <th>mean</th>\n",
       "      <td>1.505174e+06</td>\n",
       "      <td>1.463445e+06</td>\n",
       "    </tr>\n",
       "    <tr>\n",
       "      <th>std</th>\n",
       "      <td>8.617408e+05</td>\n",
       "      <td>8.663743e+05</td>\n",
       "    </tr>\n",
       "    <tr>\n",
       "      <th>min</th>\n",
       "      <td>2.200000e+01</td>\n",
       "      <td>2.100000e+01</td>\n",
       "    </tr>\n",
       "    <tr>\n",
       "      <th>25%</th>\n",
       "      <td>7.618612e+05</td>\n",
       "      <td>7.186310e+05</td>\n",
       "    </tr>\n",
       "    <tr>\n",
       "      <th>50%</th>\n",
       "      <td>1.506126e+06</td>\n",
       "      <td>1.437173e+06</td>\n",
       "    </tr>\n",
       "    <tr>\n",
       "      <th>75%</th>\n",
       "      <td>2.252036e+06</td>\n",
       "      <td>2.219323e+06</td>\n",
       "    </tr>\n",
       "    <tr>\n",
       "      <th>max</th>\n",
       "      <td>2.987950e+06</td>\n",
       "      <td>2.987937e+06</td>\n",
       "    </tr>\n",
       "  </tbody>\n",
       "</table>\n",
       "</div>"
      ],
      "text/plain": [
       "           tweet_id  in_response_to_tweet_id\n",
       "count  3.000000e+05             2.151030e+05\n",
       "mean   1.505174e+06             1.463445e+06\n",
       "std    8.617408e+05             8.663743e+05\n",
       "min    2.200000e+01             2.100000e+01\n",
       "25%    7.618612e+05             7.186310e+05\n",
       "50%    1.506126e+06             1.437173e+06\n",
       "75%    2.252036e+06             2.219323e+06\n",
       "max    2.987950e+06             2.987937e+06"
      ]
     },
     "execution_count": 8,
     "metadata": {
      "tags": []
     },
     "output_type": "execute_result"
    }
   ],
   "source": [
    "df.describe()"
   ]
  },
  {
   "cell_type": "code",
   "execution_count": null,
   "metadata": {
    "colab": {
     "base_uri": "https://localhost:8080/",
     "height": 153
    },
    "colab_type": "code",
    "executionInfo": {
     "elapsed": 1632,
     "status": "ok",
     "timestamp": 1595765455101,
     "user": {
      "displayName": "kunal jain",
      "photoUrl": "https://lh3.googleusercontent.com/a-/AOh14GhJmDwfUH7SYqmJEVfeaie-qShVuFAR3LrgWe_iow=s64",
      "userId": "04911494507403859258"
     },
     "user_tz": -330
    },
    "id": "vueCGSBwmiTH",
    "outputId": "8955b134-ef95-4a13-a983-043e133c5544"
   },
   "outputs": [
    {
     "data": {
      "text/plain": [
       "tweet_id                   False\n",
       "author_id                  False\n",
       "inbound                    False\n",
       "created_at                 False\n",
       "text                       False\n",
       "response_tweet_id           True\n",
       "in_response_to_tweet_id     True\n",
       "dtype: bool"
      ]
     },
     "execution_count": 10,
     "metadata": {
      "tags": []
     },
     "output_type": "execute_result"
    }
   ],
   "source": [
    "df.isnull().any()"
   ]
  },
  {
   "cell_type": "code",
   "execution_count": null,
   "metadata": {
    "colab": {
     "base_uri": "https://localhost:8080/",
     "height": 348
    },
    "colab_type": "code",
    "executionInfo": {
     "elapsed": 4051,
     "status": "ok",
     "timestamp": 1595784979098,
     "user": {
      "displayName": "kunal jain",
      "photoUrl": "https://lh3.googleusercontent.com/a-/AOh14GhJmDwfUH7SYqmJEVfeaie-qShVuFAR3LrgWe_iow=s64",
      "userId": "04911494507403859258"
     },
     "user_tz": -330
    },
    "id": "Ca-BWobOmuMj",
    "outputId": "0f5d5b30-6e5d-4d81-bf79-bcb72564ba45"
   },
   "outputs": [
    {
     "data": {
      "image/png": "[encoded data removed]",
      "text/plain": [
       "<Figure size 864x288 with 1 Axes>"
      ]
     },
     "metadata": {
      "needs_background": "light",
      "tags": []
     },
     "output_type": "display_data"
    }
   ],
   "source": [
    "plt.figure(figsize=(12,4))\n",
    "df.groupby(\"author_id\")[\"text\"].count().sort_values(ascending=False).head(30).plot(kind=\"bar\")\n",
    "plt.xticks(rotation=90)\n",
    "plt.show()"
   ]
  },
  {
   "cell_type": "code",
   "execution_count": null,
   "metadata": {
    "colab": {
     "base_uri": "https://localhost:8080/",
     "height": 34
    },
    "colab_type": "code",
    "executionInfo": {
     "elapsed": 1147,
     "status": "ok",
     "timestamp": 1595766576027,
     "user": {
      "displayName": "kunal jain",
      "photoUrl": "https://lh3.googleusercontent.com/a-/AOh14GhJmDwfUH7SYqmJEVfeaie-qShVuFAR3LrgWe_iow=s64",
      "userId": "04911494507403859258"
     },
     "user_tz": -330
    },
    "id": "TrK36wnvvpa-",
    "outputId": "5097a7fa-5194-4a24-bb3c-55b2f3b358f0"
   },
   "outputs": [
    {
     "data": {
      "text/plain": [
       "1040629"
      ]
     },
     "execution_count": 16,
     "metadata": {
      "tags": []
     },
     "output_type": "execute_result"
    }
   ],
   "source": [
    "df[\"response_tweet_id\"].isnull().sum()"
   ]
  },
  {
   "cell_type": "code",
   "execution_count": null,
   "metadata": {
    "colab": {
     "base_uri": "https://localhost:8080/",
     "height": 34
    },
    "colab_type": "code",
    "executionInfo": {
     "elapsed": 908,
     "status": "ok",
     "timestamp": 1595766629414,
     "user": {
      "displayName": "kunal jain",
      "photoUrl": "https://lh3.googleusercontent.com/a-/AOh14GhJmDwfUH7SYqmJEVfeaie-qShVuFAR3LrgWe_iow=s64",
      "userId": "04911494507403859258"
     },
     "user_tz": -330
    },
    "id": "UsbcUrs9v2UY",
    "outputId": "b05d08b1-32d4-47aa-a115-9e0e1be6881b"
   },
   "outputs": [
    {
     "data": {
      "text/plain": [
       "794335"
      ]
     },
     "execution_count": 18,
     "metadata": {
      "tags": []
     },
     "output_type": "execute_result"
    }
   ],
   "source": [
    "df[\"in_response_to_tweet_id\"].isnull().sum()"
   ]
  },
  {
   "cell_type": "markdown",
   "metadata": {
    "colab_type": "text",
    "id": "kimciEu8LpnN"
   },
   "source": [
    "EDA"
   ]
  },
  {
   "cell_type": "code",
   "execution_count": 104,
   "metadata": {
    "colab": {},
    "colab_type": "code",
    "executionInfo": {
     "elapsed": 2435,
     "status": "ok",
     "timestamp": 1595799978218,
     "user": {
      "displayName": "kunal jain",
      "photoUrl": "https://lh3.googleusercontent.com/a-/AOh14GhJmDwfUH7SYqmJEVfeaie-qShVuFAR3LrgWe_iow=s64",
      "userId": "04911494507403859258"
     },
     "user_tz": -330
    },
    "id": "VcVul7PGI_Tm"
   },
   "outputs": [],
   "source": [
    "df_inbound=df[df[\"in_response_to_tweet_id\"].isnull() & df[\"inbound\"]==True]"
   ]
  },
  {
   "cell_type": "code",
   "execution_count": null,
   "metadata": {
    "colab": {
     "base_uri": "https://localhost:8080/",
     "height": 204
    },
    "colab_type": "code",
    "executionInfo": {
     "elapsed": 1145,
     "status": "ok",
     "timestamp": 1595767477888,
     "user": {
      "displayName": "kunal jain",
      "photoUrl": "https://lh3.googleusercontent.com/a-/AOh14GhJmDwfUH7SYqmJEVfeaie-qShVuFAR3LrgWe_iow=s64",
      "userId": "04911494507403859258"
     },
     "user_tz": -330
    },
    "id": "xEX5PR6oJzE_",
    "outputId": "c0f683b4-c015-45fe-fca2-23b0b30e1301"
   },
   "outputs": [
    {
     "data": {
      "text/html": [
       "<div>\n",
       "<style scoped>\n",
       "    .dataframe tbody tr th:only-of-type {\n",
       "        vertical-align: middle;\n",
       "    }\n",
       "\n",
       "    .dataframe tbody tr th {\n",
       "        vertical-align: top;\n",
       "    }\n",
       "\n",
       "    .dataframe thead th {\n",
       "        text-align: right;\n",
       "    }\n",
       "</style>\n",
       "<table border=\"1\" class=\"dataframe\">\n",
       "  <thead>\n",
       "    <tr style=\"text-align: right;\">\n",
       "      <th></th>\n",
       "      <th>tweet_id</th>\n",
       "      <th>author_id</th>\n",
       "      <th>inbound</th>\n",
       "      <th>created_at</th>\n",
       "      <th>text</th>\n",
       "      <th>response_tweet_id</th>\n",
       "      <th>in_response_to_tweet_id</th>\n",
       "    </tr>\n",
       "  </thead>\n",
       "  <tbody>\n",
       "    <tr>\n",
       "      <th>6</th>\n",
       "      <td>8</td>\n",
       "      <td>115712</td>\n",
       "      <td>True</td>\n",
       "      <td>Tue Oct 31 21:45:10 +0000 2017</td>\n",
       "      <td>@sprintcare is the worst customer service</td>\n",
       "      <td>9,6,10</td>\n",
       "      <td>NaN</td>\n",
       "    </tr>\n",
       "    <tr>\n",
       "      <th>12</th>\n",
       "      <td>18</td>\n",
       "      <td>115713</td>\n",
       "      <td>True</td>\n",
       "      <td>Tue Oct 31 19:56:01 +0000 2017</td>\n",
       "      <td>@115714 y’all lie about your “great” connectio...</td>\n",
       "      <td>17</td>\n",
       "      <td>NaN</td>\n",
       "    </tr>\n",
       "    <tr>\n",
       "      <th>14</th>\n",
       "      <td>20</td>\n",
       "      <td>115715</td>\n",
       "      <td>True</td>\n",
       "      <td>Tue Oct 31 22:03:34 +0000 2017</td>\n",
       "      <td>@115714 whenever I contact customer support, t...</td>\n",
       "      <td>19</td>\n",
       "      <td>NaN</td>\n",
       "    </tr>\n",
       "    <tr>\n",
       "      <th>23</th>\n",
       "      <td>29</td>\n",
       "      <td>115716</td>\n",
       "      <td>True</td>\n",
       "      <td>Tue Oct 31 22:01:35 +0000 2017</td>\n",
       "      <td>actually that's a broken link you sent me and ...</td>\n",
       "      <td>28</td>\n",
       "      <td>NaN</td>\n",
       "    </tr>\n",
       "    <tr>\n",
       "      <th>25</th>\n",
       "      <td>31</td>\n",
       "      <td>115717</td>\n",
       "      <td>True</td>\n",
       "      <td>Tue Oct 31 22:06:54 +0000 2017</td>\n",
       "      <td>Yo @Ask_Spectrum, your customer service reps a...</td>\n",
       "      <td>30</td>\n",
       "      <td>NaN</td>\n",
       "    </tr>\n",
       "  </tbody>\n",
       "</table>\n",
       "</div>"
      ],
      "text/plain": [
       "    tweet_id author_id  ...  response_tweet_id in_response_to_tweet_id\n",
       "6          8    115712  ...             9,6,10                     NaN\n",
       "12        18    115713  ...                 17                     NaN\n",
       "14        20    115715  ...                 19                     NaN\n",
       "23        29    115716  ...                 28                     NaN\n",
       "25        31    115717  ...                 30                     NaN\n",
       "\n",
       "[5 rows x 7 columns]"
      ]
     },
     "execution_count": 21,
     "metadata": {
      "tags": []
     },
     "output_type": "execute_result"
    }
   ],
   "source": [
    "df_inbound.head()"
   ]
  },
  {
   "cell_type": "code",
   "execution_count": 105,
   "metadata": {
    "colab": {},
    "colab_type": "code",
    "executionInfo": {
     "elapsed": 3204,
     "status": "ok",
     "timestamp": 1595799984997,
     "user": {
      "displayName": "kunal jain",
      "photoUrl": "https://lh3.googleusercontent.com/a-/AOh14GhJmDwfUH7SYqmJEVfeaie-qShVuFAR3LrgWe_iow=s64",
      "userId": "04911494507403859258"
     },
     "user_tz": -330
    },
    "id": "-_XGahVBMEHU"
   },
   "outputs": [],
   "source": [
    "#Merged In out messages on the initial request\n",
    "#match response tweets with the initial request\n",
    "df_IO=pd.merge(df_inbound,df,left_on=\"tweet_id\",right_on=\"in_response_to_tweet_id\")"
   ]
  },
  {
   "cell_type": "code",
   "execution_count": 35,
   "metadata": {
    "colab": {
     "base_uri": "https://localhost:8080/",
     "height": 649
    },
    "colab_type": "code",
    "executionInfo": {
     "elapsed": 1124,
     "status": "ok",
     "timestamp": 1595785916771,
     "user": {
      "displayName": "kunal jain",
      "photoUrl": "https://lh3.googleusercontent.com/a-/AOh14GhJmDwfUH7SYqmJEVfeaie-qShVuFAR3LrgWe_iow=s64",
      "userId": "04911494507403859258"
     },
     "user_tz": -330
    },
    "id": "n6x5F5vVMs3-",
    "outputId": "ca006c44-fc92-453c-fd23-db3cad19c8ae"
   },
   "outputs": [
    {
     "data": {
      "text/html": [
       "<div>\n",
       "<style scoped>\n",
       "    .dataframe tbody tr th:only-of-type {\n",
       "        vertical-align: middle;\n",
       "    }\n",
       "\n",
       "    .dataframe tbody tr th {\n",
       "        vertical-align: top;\n",
       "    }\n",
       "\n",
       "    .dataframe thead th {\n",
       "        text-align: right;\n",
       "    }\n",
       "</style>\n",
       "<table border=\"1\" class=\"dataframe\">\n",
       "  <thead>\n",
       "    <tr style=\"text-align: right;\">\n",
       "      <th></th>\n",
       "      <th>tweet_id_x</th>\n",
       "      <th>author_id_x</th>\n",
       "      <th>inbound_x</th>\n",
       "      <th>created_at_x</th>\n",
       "      <th>text_x</th>\n",
       "      <th>response_tweet_id_x</th>\n",
       "      <th>in_response_to_tweet_id_x</th>\n",
       "      <th>tweet_id_y</th>\n",
       "      <th>author_id_y</th>\n",
       "      <th>inbound_y</th>\n",
       "      <th>created_at_y</th>\n",
       "      <th>text_y</th>\n",
       "      <th>response_tweet_id_y</th>\n",
       "      <th>in_response_to_tweet_id_y</th>\n",
       "    </tr>\n",
       "  </thead>\n",
       "  <tbody>\n",
       "    <tr>\n",
       "      <th>0</th>\n",
       "      <td>8</td>\n",
       "      <td>115712</td>\n",
       "      <td>True</td>\n",
       "      <td>Tue Oct 31 21:45:10 +0000 2017</td>\n",
       "      <td>@sprintcare is the worst customer service</td>\n",
       "      <td>9,6,10</td>\n",
       "      <td>NaN</td>\n",
       "      <td>6</td>\n",
       "      <td>sprintcare</td>\n",
       "      <td>False</td>\n",
       "      <td>Tue Oct 31 21:46:24 +0000 2017</td>\n",
       "      <td>@115712 Can you please send us a private messa...</td>\n",
       "      <td>5,7</td>\n",
       "      <td>8.0</td>\n",
       "    </tr>\n",
       "    <tr>\n",
       "      <th>1</th>\n",
       "      <td>8</td>\n",
       "      <td>115712</td>\n",
       "      <td>True</td>\n",
       "      <td>Tue Oct 31 21:45:10 +0000 2017</td>\n",
       "      <td>@sprintcare is the worst customer service</td>\n",
       "      <td>9,6,10</td>\n",
       "      <td>NaN</td>\n",
       "      <td>9</td>\n",
       "      <td>sprintcare</td>\n",
       "      <td>False</td>\n",
       "      <td>Tue Oct 31 21:46:14 +0000 2017</td>\n",
       "      <td>@115712 I would love the chance to review the ...</td>\n",
       "      <td>NaN</td>\n",
       "      <td>8.0</td>\n",
       "    </tr>\n",
       "    <tr>\n",
       "      <th>2</th>\n",
       "      <td>8</td>\n",
       "      <td>115712</td>\n",
       "      <td>True</td>\n",
       "      <td>Tue Oct 31 21:45:10 +0000 2017</td>\n",
       "      <td>@sprintcare is the worst customer service</td>\n",
       "      <td>9,6,10</td>\n",
       "      <td>NaN</td>\n",
       "      <td>10</td>\n",
       "      <td>sprintcare</td>\n",
       "      <td>False</td>\n",
       "      <td>Tue Oct 31 21:45:59 +0000 2017</td>\n",
       "      <td>@115712 Hello! We never like our customers to ...</td>\n",
       "      <td>NaN</td>\n",
       "      <td>8.0</td>\n",
       "    </tr>\n",
       "    <tr>\n",
       "      <th>3</th>\n",
       "      <td>18</td>\n",
       "      <td>115713</td>\n",
       "      <td>True</td>\n",
       "      <td>Tue Oct 31 19:56:01 +0000 2017</td>\n",
       "      <td>@115714 y’all lie about your “great” connectio...</td>\n",
       "      <td>17</td>\n",
       "      <td>NaN</td>\n",
       "      <td>17</td>\n",
       "      <td>sprintcare</td>\n",
       "      <td>False</td>\n",
       "      <td>Tue Oct 31 19:59:13 +0000 2017</td>\n",
       "      <td>@115713 H there! We'd definitely like to work ...</td>\n",
       "      <td>16</td>\n",
       "      <td>18.0</td>\n",
       "    </tr>\n",
       "    <tr>\n",
       "      <th>4</th>\n",
       "      <td>20</td>\n",
       "      <td>115715</td>\n",
       "      <td>True</td>\n",
       "      <td>Tue Oct 31 22:03:34 +0000 2017</td>\n",
       "      <td>@115714 whenever I contact customer support, t...</td>\n",
       "      <td>19</td>\n",
       "      <td>NaN</td>\n",
       "      <td>19</td>\n",
       "      <td>sprintcare</td>\n",
       "      <td>False</td>\n",
       "      <td>Tue Oct 31 22:10:10 +0000 2017</td>\n",
       "      <td>@115715 Please send me a private message so th...</td>\n",
       "      <td>NaN</td>\n",
       "      <td>20.0</td>\n",
       "    </tr>\n",
       "  </tbody>\n",
       "</table>\n",
       "</div>"
      ],
      "text/plain": [
       "   tweet_id_x author_id_x  ...  response_tweet_id_y in_response_to_tweet_id_y\n",
       "0           8      115712  ...                  5,7                       8.0\n",
       "1           8      115712  ...                  NaN                       8.0\n",
       "2           8      115712  ...                  NaN                       8.0\n",
       "3          18      115713  ...                   16                      18.0\n",
       "4          20      115715  ...                  NaN                      20.0\n",
       "\n",
       "[5 rows x 14 columns]"
      ]
     },
     "execution_count": 35,
     "metadata": {
      "tags": []
     },
     "output_type": "execute_result"
    }
   ],
   "source": [
    "df_IO.head()"
   ]
  },
  {
   "cell_type": "code",
   "execution_count": null,
   "metadata": {
    "colab": {
     "base_uri": "https://localhost:8080/",
     "height": 68
    },
    "colab_type": "code",
    "executionInfo": {
     "elapsed": 890,
     "status": "ok",
     "timestamp": 1595768289855,
     "user": {
      "displayName": "kunal jain",
      "photoUrl": "https://lh3.googleusercontent.com/a-/AOh14GhJmDwfUH7SYqmJEVfeaie-qShVuFAR3LrgWe_iow=s64",
      "userId": "04911494507403859258"
     },
     "user_tz": -330
    },
    "id": "8-G70zzaMvch",
    "outputId": "a58ed4f7-8a54-4cdd-ca6d-f6199510b888"
   },
   "outputs": [
    {
     "data": {
      "text/plain": [
       "False    794299\n",
       "True      80993\n",
       "Name: inbound_y, dtype: int64"
      ]
     },
     "execution_count": 34,
     "metadata": {
      "tags": []
     },
     "output_type": "execute_result"
    }
   ],
   "source": [
    "df_IO.inbound_y.value_counts()"
   ]
  },
  {
   "cell_type": "code",
   "execution_count": 36,
   "metadata": {
    "colab": {
     "base_uri": "https://localhost:8080/",
     "height": 445
    },
    "colab_type": "code",
    "executionInfo": {
     "elapsed": 1735,
     "status": "ok",
     "timestamp": 1595785923866,
     "user": {
      "displayName": "kunal jain",
      "photoUrl": "https://lh3.googleusercontent.com/a-/AOh14GhJmDwfUH7SYqmJEVfeaie-qShVuFAR3LrgWe_iow=s64",
      "userId": "04911494507403859258"
     },
     "user_tz": -330
    },
    "id": "hJ2pqjHHM7Zc",
    "outputId": "cedf1fee-5a5f-483d-edf4-7c12a89c576c"
   },
   "outputs": [
    {
     "data": {
      "text/html": [
       "<div>\n",
       "<style scoped>\n",
       "    .dataframe tbody tr th:only-of-type {\n",
       "        vertical-align: middle;\n",
       "    }\n",
       "\n",
       "    .dataframe tbody tr th {\n",
       "        vertical-align: top;\n",
       "    }\n",
       "\n",
       "    .dataframe thead th {\n",
       "        text-align: right;\n",
       "    }\n",
       "</style>\n",
       "<table border=\"1\" class=\"dataframe\">\n",
       "  <thead>\n",
       "    <tr style=\"text-align: right;\">\n",
       "      <th></th>\n",
       "      <th>tweet_id_x</th>\n",
       "      <th>author_id_x</th>\n",
       "      <th>inbound_x</th>\n",
       "      <th>created_at_x</th>\n",
       "      <th>text_x</th>\n",
       "      <th>response_tweet_id_x</th>\n",
       "      <th>in_response_to_tweet_id_x</th>\n",
       "      <th>tweet_id_y</th>\n",
       "      <th>author_id_y</th>\n",
       "      <th>inbound_y</th>\n",
       "      <th>created_at_y</th>\n",
       "      <th>text_y</th>\n",
       "      <th>response_tweet_id_y</th>\n",
       "      <th>in_response_to_tweet_id_y</th>\n",
       "    </tr>\n",
       "  </thead>\n",
       "  <tbody>\n",
       "    <tr>\n",
       "      <th>10</th>\n",
       "      <td>49</td>\n",
       "      <td>115721</td>\n",
       "      <td>True</td>\n",
       "      <td>Tue Oct 31 21:42:09 +0000 2017</td>\n",
       "      <td>@115722 tried to pay a bill for 60 days. No se...</td>\n",
       "      <td>48</td>\n",
       "      <td>NaN</td>\n",
       "      <td>48</td>\n",
       "      <td>115722</td>\n",
       "      <td>True</td>\n",
       "      <td>Tue Oct 31 21:49:31 +0000 2017</td>\n",
       "      <td>@115721 Are you referring to wireless or resid...</td>\n",
       "      <td>47</td>\n",
       "      <td>49.0</td>\n",
       "    </tr>\n",
       "    <tr>\n",
       "      <th>15</th>\n",
       "      <td>66</td>\n",
       "      <td>115728</td>\n",
       "      <td>True</td>\n",
       "      <td>Tue Oct 31 22:03:38 +0000 2017</td>\n",
       "      <td>@ChipotleTweets @28 \\nI don't fit in my Veggie...</td>\n",
       "      <td>64,67</td>\n",
       "      <td>NaN</td>\n",
       "      <td>67</td>\n",
       "      <td>115728</td>\n",
       "      <td>True</td>\n",
       "      <td>Tue Oct 31 22:29:16 +0000 2017</td>\n",
       "      <td>@ChipotleTweets @28 My baby https://t.co/dtiXx...</td>\n",
       "      <td>2174</td>\n",
       "      <td>66.0</td>\n",
       "    </tr>\n",
       "    <tr>\n",
       "      <th>21</th>\n",
       "      <td>156</td>\n",
       "      <td>115735</td>\n",
       "      <td>True</td>\n",
       "      <td>Mon Oct 23 03:19:06 +0000 2017</td>\n",
       "      <td>So frustrated with @ChipotleTweets 😡 Ordered d...</td>\n",
       "      <td>155,157</td>\n",
       "      <td>NaN</td>\n",
       "      <td>155</td>\n",
       "      <td>115735</td>\n",
       "      <td>True</td>\n",
       "      <td>Tue Oct 31 22:00:46 +0000 2017</td>\n",
       "      <td>@ChipotleTweets Thank you @ChipotleTweets for ...</td>\n",
       "      <td>154</td>\n",
       "      <td>156.0</td>\n",
       "    </tr>\n",
       "    <tr>\n",
       "      <th>44</th>\n",
       "      <td>234</td>\n",
       "      <td>115762</td>\n",
       "      <td>True</td>\n",
       "      <td>Tue Oct 31 05:55:08 +0000 2017</td>\n",
       "      <td>@ATVIAssist i pre ordered wwii but how do i ge...</td>\n",
       "      <td>232</td>\n",
       "      <td>NaN</td>\n",
       "      <td>232</td>\n",
       "      <td>115762</td>\n",
       "      <td>True</td>\n",
       "      <td>Tue Oct 31 05:55:34 +0000 2017</td>\n",
       "      <td>@ATVIAssist For double xp^</td>\n",
       "      <td>233,231</td>\n",
       "      <td>234.0</td>\n",
       "    </tr>\n",
       "    <tr>\n",
       "      <th>55</th>\n",
       "      <td>293</td>\n",
       "      <td>115769</td>\n",
       "      <td>True</td>\n",
       "      <td>Wed Oct 18 14:07:45 +0000 2017</td>\n",
       "      <td>Whoa! Come along with Lightroom’s own Ben Ward...</td>\n",
       "      <td>292</td>\n",
       "      <td>NaN</td>\n",
       "      <td>292</td>\n",
       "      <td>115779</td>\n",
       "      <td>True</td>\n",
       "      <td>Fri Oct 27 13:53:45 +0000 2017</td>\n",
       "      <td>@115769 I'm worried as if I update my LR6 stan...</td>\n",
       "      <td>291</td>\n",
       "      <td>293.0</td>\n",
       "    </tr>\n",
       "  </tbody>\n",
       "</table>\n",
       "</div>"
      ],
      "text/plain": [
       "    tweet_id_x author_id_x  ...  response_tweet_id_y in_response_to_tweet_id_y\n",
       "10          49      115721  ...                   47                      49.0\n",
       "15          66      115728  ...                 2174                      66.0\n",
       "21         156      115735  ...                  154                     156.0\n",
       "44         234      115762  ...              233,231                     234.0\n",
       "55         293      115769  ...                  291                     293.0\n",
       "\n",
       "[5 rows x 14 columns]"
      ]
     },
     "execution_count": 36,
     "metadata": {
      "tags": []
     },
     "output_type": "execute_result"
    }
   ],
   "source": [
    "df_IO[df_IO.inbound_y==True].head()"
   ]
  },
  {
   "cell_type": "code",
   "execution_count": 106,
   "metadata": {
    "colab": {},
    "colab_type": "code",
    "executionInfo": {
     "elapsed": 1509,
     "status": "ok",
     "timestamp": 1595799994696,
     "user": {
      "displayName": "kunal jain",
      "photoUrl": "https://lh3.googleusercontent.com/a-/AOh14GhJmDwfUH7SYqmJEVfeaie-qShVuFAR3LrgWe_iow=s64",
      "userId": "04911494507403859258"
     },
     "user_tz": -330
    },
    "id": "iQao1VYRNIIx"
   },
   "outputs": [],
   "source": [
    "#Filter only company replies from IO df\n",
    "df_IO=df_IO[df_IO.inbound_y!=True]"
   ]
  },
  {
   "cell_type": "code",
   "execution_count": null,
   "metadata": {
    "colab": {
     "base_uri": "https://localhost:8080/",
     "height": 649
    },
    "colab_type": "code",
    "executionInfo": {
     "elapsed": 1175,
     "status": "ok",
     "timestamp": 1595785060789,
     "user": {
      "displayName": "kunal jain",
      "photoUrl": "https://lh3.googleusercontent.com/a-/AOh14GhJmDwfUH7SYqmJEVfeaie-qShVuFAR3LrgWe_iow=s64",
      "userId": "04911494507403859258"
     },
     "user_tz": -330
    },
    "id": "fr8DRrYENpRk",
    "outputId": "283e4efe-80f7-4c06-a754-6f49a71517c4"
   },
   "outputs": [
    {
     "data": {
      "text/html": [
       "<div>\n",
       "<style scoped>\n",
       "    .dataframe tbody tr th:only-of-type {\n",
       "        vertical-align: middle;\n",
       "    }\n",
       "\n",
       "    .dataframe tbody tr th {\n",
       "        vertical-align: top;\n",
       "    }\n",
       "\n",
       "    .dataframe thead th {\n",
       "        text-align: right;\n",
       "    }\n",
       "</style>\n",
       "<table border=\"1\" class=\"dataframe\">\n",
       "  <thead>\n",
       "    <tr style=\"text-align: right;\">\n",
       "      <th></th>\n",
       "      <th>tweet_id_x</th>\n",
       "      <th>author_id_x</th>\n",
       "      <th>inbound_x</th>\n",
       "      <th>created_at_x</th>\n",
       "      <th>text_x</th>\n",
       "      <th>response_tweet_id_x</th>\n",
       "      <th>in_response_to_tweet_id_x</th>\n",
       "      <th>tweet_id_y</th>\n",
       "      <th>author_id_y</th>\n",
       "      <th>inbound_y</th>\n",
       "      <th>created_at_y</th>\n",
       "      <th>text_y</th>\n",
       "      <th>response_tweet_id_y</th>\n",
       "      <th>in_response_to_tweet_id_y</th>\n",
       "    </tr>\n",
       "  </thead>\n",
       "  <tbody>\n",
       "    <tr>\n",
       "      <th>0</th>\n",
       "      <td>8</td>\n",
       "      <td>115712</td>\n",
       "      <td>True</td>\n",
       "      <td>Tue Oct 31 21:45:10 +0000 2017</td>\n",
       "      <td>@sprintcare is the worst customer service</td>\n",
       "      <td>9,6,10</td>\n",
       "      <td>NaN</td>\n",
       "      <td>6</td>\n",
       "      <td>sprintcare</td>\n",
       "      <td>False</td>\n",
       "      <td>Tue Oct 31 21:46:24 +0000 2017</td>\n",
       "      <td>@115712 Can you please send us a private messa...</td>\n",
       "      <td>5,7</td>\n",
       "      <td>8.0</td>\n",
       "    </tr>\n",
       "    <tr>\n",
       "      <th>1</th>\n",
       "      <td>8</td>\n",
       "      <td>115712</td>\n",
       "      <td>True</td>\n",
       "      <td>Tue Oct 31 21:45:10 +0000 2017</td>\n",
       "      <td>@sprintcare is the worst customer service</td>\n",
       "      <td>9,6,10</td>\n",
       "      <td>NaN</td>\n",
       "      <td>9</td>\n",
       "      <td>sprintcare</td>\n",
       "      <td>False</td>\n",
       "      <td>Tue Oct 31 21:46:14 +0000 2017</td>\n",
       "      <td>@115712 I would love the chance to review the ...</td>\n",
       "      <td>NaN</td>\n",
       "      <td>8.0</td>\n",
       "    </tr>\n",
       "    <tr>\n",
       "      <th>2</th>\n",
       "      <td>8</td>\n",
       "      <td>115712</td>\n",
       "      <td>True</td>\n",
       "      <td>Tue Oct 31 21:45:10 +0000 2017</td>\n",
       "      <td>@sprintcare is the worst customer service</td>\n",
       "      <td>9,6,10</td>\n",
       "      <td>NaN</td>\n",
       "      <td>10</td>\n",
       "      <td>sprintcare</td>\n",
       "      <td>False</td>\n",
       "      <td>Tue Oct 31 21:45:59 +0000 2017</td>\n",
       "      <td>@115712 Hello! We never like our customers to ...</td>\n",
       "      <td>NaN</td>\n",
       "      <td>8.0</td>\n",
       "    </tr>\n",
       "    <tr>\n",
       "      <th>3</th>\n",
       "      <td>18</td>\n",
       "      <td>115713</td>\n",
       "      <td>True</td>\n",
       "      <td>Tue Oct 31 19:56:01 +0000 2017</td>\n",
       "      <td>@115714 y’all lie about your “great” connectio...</td>\n",
       "      <td>17</td>\n",
       "      <td>NaN</td>\n",
       "      <td>17</td>\n",
       "      <td>sprintcare</td>\n",
       "      <td>False</td>\n",
       "      <td>Tue Oct 31 19:59:13 +0000 2017</td>\n",
       "      <td>@115713 H there! We'd definitely like to work ...</td>\n",
       "      <td>16</td>\n",
       "      <td>18.0</td>\n",
       "    </tr>\n",
       "    <tr>\n",
       "      <th>4</th>\n",
       "      <td>20</td>\n",
       "      <td>115715</td>\n",
       "      <td>True</td>\n",
       "      <td>Tue Oct 31 22:03:34 +0000 2017</td>\n",
       "      <td>@115714 whenever I contact customer support, t...</td>\n",
       "      <td>19</td>\n",
       "      <td>NaN</td>\n",
       "      <td>19</td>\n",
       "      <td>sprintcare</td>\n",
       "      <td>False</td>\n",
       "      <td>Tue Oct 31 22:10:10 +0000 2017</td>\n",
       "      <td>@115715 Please send me a private message so th...</td>\n",
       "      <td>NaN</td>\n",
       "      <td>20.0</td>\n",
       "    </tr>\n",
       "  </tbody>\n",
       "</table>\n",
       "</div>"
      ],
      "text/plain": [
       "   tweet_id_x author_id_x  ...  response_tweet_id_y in_response_to_tweet_id_y\n",
       "0           8      115712  ...                  5,7                       8.0\n",
       "1           8      115712  ...                  NaN                       8.0\n",
       "2           8      115712  ...                  NaN                       8.0\n",
       "3          18      115713  ...                   16                      18.0\n",
       "4          20      115715  ...                  NaN                      20.0\n",
       "\n",
       "[5 rows x 14 columns]"
      ]
     },
     "execution_count": 25,
     "metadata": {
      "tags": []
     },
     "output_type": "execute_result"
    }
   ],
   "source": [
    "df_IO.head()"
   ]
  },
  {
   "cell_type": "markdown",
   "metadata": {
    "colab_type": "text",
    "id": "xoHMIX9sUH2M"
   },
   "source": [
    "Understanding the merged data"
   ]
  },
  {
   "cell_type": "code",
   "execution_count": 107,
   "metadata": {
    "colab": {
     "base_uri": "https://localhost:8080/",
     "height": 85
    },
    "colab_type": "code",
    "executionInfo": {
     "elapsed": 1114,
     "status": "ok",
     "timestamp": 1595799999656,
     "user": {
      "displayName": "kunal jain",
      "photoUrl": "https://lh3.googleusercontent.com/a-/AOh14GhJmDwfUH7SYqmJEVfeaie-qShVuFAR3LrgWe_iow=s64",
      "userId": "04911494507403859258"
     },
     "user_tz": -330
    },
    "id": "XMD0BM5bM_Ce",
    "outputId": "613afabc-83c8-4e26-9a3c-24bbbff1a5bc"
   },
   "outputs": [
    {
     "data": {
      "text/plain": [
       "0    @sprintcare is the worst customer service\n",
       "1    @sprintcare is the worst customer service\n",
       "2    @sprintcare is the worst customer service\n",
       "Name: text_x, dtype: object"
      ]
     },
     "execution_count": 107,
     "metadata": {
      "tags": []
     },
     "output_type": "execute_result"
    }
   ],
   "source": [
    "#Taking tweet_id 8 as an example\n",
    "df_IO[df_IO.tweet_id_x==8][\"text_x\"]"
   ]
  },
  {
   "cell_type": "code",
   "execution_count": 49,
   "metadata": {
    "colab": {
     "base_uri": "https://localhost:8080/",
     "height": 34
    },
    "colab_type": "code",
    "executionInfo": {
     "elapsed": 1591,
     "status": "ok",
     "timestamp": 1595786314980,
     "user": {
      "displayName": "kunal jain",
      "photoUrl": "https://lh3.googleusercontent.com/a-/AOh14GhJmDwfUH7SYqmJEVfeaie-qShVuFAR3LrgWe_iow=s64",
      "userId": "04911494507403859258"
     },
     "user_tz": -330
    },
    "id": "SXZO9MJUOqJT",
    "outputId": "3551ac17-109f-4dc1-8c90-da925d8cab68"
   },
   "outputs": [
    {
     "data": {
      "text/plain": [
       "['9', '6', '10']"
      ]
     },
     "execution_count": 49,
     "metadata": {
      "tags": []
     },
     "output_type": "execute_result"
    }
   ],
   "source": [
    "df_IO[df_IO.tweet_id_x==8][\"response_tweet_id_x\"][0].split(\",\")"
   ]
  },
  {
   "cell_type": "code",
   "execution_count": 64,
   "metadata": {
    "colab": {
     "base_uri": "https://localhost:8080/",
     "height": 35
    },
    "colab_type": "code",
    "executionInfo": {
     "elapsed": 1127,
     "status": "ok",
     "timestamp": 1595786874361,
     "user": {
      "displayName": "kunal jain",
      "photoUrl": "https://lh3.googleusercontent.com/a-/AOh14GhJmDwfUH7SYqmJEVfeaie-qShVuFAR3LrgWe_iow=s64",
      "userId": "04911494507403859258"
     },
     "user_tz": -330
    },
    "id": "JckjMXKDTnZ5",
    "outputId": "96372be4-1a74-4891-c358-3b6146c55df2"
   },
   "outputs": [
    {
     "data": {
      "application/vnd.google.colaboratory.intrinsic+json": {
       "type": "string"
      },
      "text/plain": [
       "'sprintcare'"
      ]
     },
     "execution_count": 64,
     "metadata": {
      "tags": []
     },
     "output_type": "execute_result"
    }
   ],
   "source": [
    "#Support company name\n",
    "df_IO[df_IO.tweet_id_x==8][\"author_id_y\"][0]"
   ]
  },
  {
   "cell_type": "code",
   "execution_count": 50,
   "metadata": {
    "colab": {},
    "colab_type": "code",
    "executionInfo": {
     "elapsed": 1365,
     "status": "ok",
     "timestamp": 1595786338429,
     "user": {
      "displayName": "kunal jain",
      "photoUrl": "https://lh3.googleusercontent.com/a-/AOh14GhJmDwfUH7SYqmJEVfeaie-qShVuFAR3LrgWe_iow=s64",
      "userId": "04911494507403859258"
     },
     "user_tz": -330
    },
    "id": "9piXTsctNrle"
   },
   "outputs": [],
   "source": [
    "#This implies there are 3 enteries(/3 responses) for tweet_id 8, \n",
    "#Now checking the ids of the corresponding response tweets from customer support\n",
    "response_tweetID=df_IO[df_IO.tweet_id_x==8][\"response_tweet_id_x\"][0].split(\",\")"
   ]
  },
  {
   "cell_type": "code",
   "execution_count": 65,
   "metadata": {
    "colab": {
     "base_uri": "https://localhost:8080/",
     "height": 68
    },
    "colab_type": "code",
    "executionInfo": {
     "elapsed": 1178,
     "status": "ok",
     "timestamp": 1595786926675,
     "user": {
      "displayName": "kunal jain",
      "photoUrl": "https://lh3.googleusercontent.com/a-/AOh14GhJmDwfUH7SYqmJEVfeaie-qShVuFAR3LrgWe_iow=s64",
      "userId": "04911494507403859258"
     },
     "user_tz": -330
    },
    "id": "1Kh-zySiRym1",
    "outputId": "7cd4d68f-9894-436b-90d5-8b80b4048feb"
   },
   "outputs": [
    {
     "data": {
      "text/plain": [
       "['@115712 Can you please send us a private message, so that I can gain further details about your account?',\n",
       " '@115712 I would love the chance to review the account and provide assistance.',\n",
       " '@115712 Hello! We never like our customers to feel like they are not valued.']"
      ]
     },
     "execution_count": 65,
     "metadata": {
      "tags": []
     },
     "output_type": "execute_result"
    }
   ],
   "source": [
    "#Messages from 'sprintcare' on tweet id 8 for author id 115712\n",
    "list(df_IO[df_IO.tweet_id_y.isin(response_tweetID)][\"text_y\"])"
   ]
  },
  {
   "cell_type": "markdown",
   "metadata": {
    "colab_type": "text",
    "id": "Nx6ZhGnEN_gq"
   },
   "source": [
    "Drop the Unwanted columns"
   ]
  },
  {
   "cell_type": "code",
   "execution_count": 108,
   "metadata": {
    "colab": {},
    "colab_type": "code",
    "executionInfo": {
     "elapsed": 1392,
     "status": "ok",
     "timestamp": 1595800017312,
     "user": {
      "displayName": "kunal jain",
      "photoUrl": "https://lh3.googleusercontent.com/a-/AOh14GhJmDwfUH7SYqmJEVfeaie-qShVuFAR3LrgWe_iow=s64",
      "userId": "04911494507403859258"
     },
     "user_tz": -330
    },
    "id": "R_SEbS9FNrmU"
   },
   "outputs": [],
   "source": [
    "required_col=[\"author_id_x\",\"created_at_x\",\"text_x\",\"author_id_y\",\"created_at_y\",\"text_y\"]"
   ]
  },
  {
   "cell_type": "code",
   "execution_count": 109,
   "metadata": {
    "colab": {},
    "colab_type": "code",
    "executionInfo": {
     "elapsed": 1049,
     "status": "ok",
     "timestamp": 1595800019563,
     "user": {
      "displayName": "kunal jain",
      "photoUrl": "https://lh3.googleusercontent.com/a-/AOh14GhJmDwfUH7SYqmJEVfeaie-qShVuFAR3LrgWe_iow=s64",
      "userId": "04911494507403859258"
     },
     "user_tz": -330
    },
    "id": "Qei4MjcKOs1a"
   },
   "outputs": [],
   "source": [
    "df_IO=df_IO[required_col]"
   ]
  },
  {
   "cell_type": "code",
   "execution_count": 68,
   "metadata": {
    "colab": {
     "base_uri": "https://localhost:8080/",
     "height": 289
    },
    "colab_type": "code",
    "executionInfo": {
     "elapsed": 754,
     "status": "ok",
     "timestamp": 1595786990460,
     "user": {
      "displayName": "kunal jain",
      "photoUrl": "https://lh3.googleusercontent.com/a-/AOh14GhJmDwfUH7SYqmJEVfeaie-qShVuFAR3LrgWe_iow=s64",
      "userId": "04911494507403859258"
     },
     "user_tz": -330
    },
    "id": "04gYR5kYOwmY",
    "outputId": "b5c19be4-abf6-46d8-d5c0-c7ea31ac1ac7"
   },
   "outputs": [
    {
     "data": {
      "text/html": [
       "<div>\n",
       "<style scoped>\n",
       "    .dataframe tbody tr th:only-of-type {\n",
       "        vertical-align: middle;\n",
       "    }\n",
       "\n",
       "    .dataframe tbody tr th {\n",
       "        vertical-align: top;\n",
       "    }\n",
       "\n",
       "    .dataframe thead th {\n",
       "        text-align: right;\n",
       "    }\n",
       "</style>\n",
       "<table border=\"1\" class=\"dataframe\">\n",
       "  <thead>\n",
       "    <tr style=\"text-align: right;\">\n",
       "      <th></th>\n",
       "      <th>author_id_x</th>\n",
       "      <th>created_at_x</th>\n",
       "      <th>text_x</th>\n",
       "      <th>author_id_y</th>\n",
       "      <th>created_at_y</th>\n",
       "      <th>text_y</th>\n",
       "    </tr>\n",
       "  </thead>\n",
       "  <tbody>\n",
       "    <tr>\n",
       "      <th>0</th>\n",
       "      <td>115712</td>\n",
       "      <td>Tue Oct 31 21:45:10 +0000 2017</td>\n",
       "      <td>@sprintcare is the worst customer service</td>\n",
       "      <td>sprintcare</td>\n",
       "      <td>Tue Oct 31 21:46:24 +0000 2017</td>\n",
       "      <td>@115712 Can you please send us a private messa...</td>\n",
       "    </tr>\n",
       "    <tr>\n",
       "      <th>1</th>\n",
       "      <td>115712</td>\n",
       "      <td>Tue Oct 31 21:45:10 +0000 2017</td>\n",
       "      <td>@sprintcare is the worst customer service</td>\n",
       "      <td>sprintcare</td>\n",
       "      <td>Tue Oct 31 21:46:14 +0000 2017</td>\n",
       "      <td>@115712 I would love the chance to review the ...</td>\n",
       "    </tr>\n",
       "    <tr>\n",
       "      <th>2</th>\n",
       "      <td>115712</td>\n",
       "      <td>Tue Oct 31 21:45:10 +0000 2017</td>\n",
       "      <td>@sprintcare is the worst customer service</td>\n",
       "      <td>sprintcare</td>\n",
       "      <td>Tue Oct 31 21:45:59 +0000 2017</td>\n",
       "      <td>@115712 Hello! We never like our customers to ...</td>\n",
       "    </tr>\n",
       "    <tr>\n",
       "      <th>3</th>\n",
       "      <td>115713</td>\n",
       "      <td>Tue Oct 31 19:56:01 +0000 2017</td>\n",
       "      <td>@115714 y’all lie about your “great” connectio...</td>\n",
       "      <td>sprintcare</td>\n",
       "      <td>Tue Oct 31 19:59:13 +0000 2017</td>\n",
       "      <td>@115713 H there! We'd definitely like to work ...</td>\n",
       "    </tr>\n",
       "    <tr>\n",
       "      <th>4</th>\n",
       "      <td>115715</td>\n",
       "      <td>Tue Oct 31 22:03:34 +0000 2017</td>\n",
       "      <td>@115714 whenever I contact customer support, t...</td>\n",
       "      <td>sprintcare</td>\n",
       "      <td>Tue Oct 31 22:10:10 +0000 2017</td>\n",
       "      <td>@115715 Please send me a private message so th...</td>\n",
       "    </tr>\n",
       "  </tbody>\n",
       "</table>\n",
       "</div>"
      ],
      "text/plain": [
       "  author_id_x  ...                                             text_y\n",
       "0      115712  ...  @115712 Can you please send us a private messa...\n",
       "1      115712  ...  @115712 I would love the chance to review the ...\n",
       "2      115712  ...  @115712 Hello! We never like our customers to ...\n",
       "3      115713  ...  @115713 H there! We'd definitely like to work ...\n",
       "4      115715  ...  @115715 Please send me a private message so th...\n",
       "\n",
       "[5 rows x 6 columns]"
      ]
     },
     "execution_count": 68,
     "metadata": {
      "tags": []
     },
     "output_type": "execute_result"
    }
   ],
   "source": [
    "df_IO.head()"
   ]
  },
  {
   "cell_type": "code",
   "execution_count": 69,
   "metadata": {
    "colab": {
     "base_uri": "https://localhost:8080/",
     "height": 34
    },
    "colab_type": "code",
    "executionInfo": {
     "elapsed": 1095,
     "status": "ok",
     "timestamp": 1595786994175,
     "user": {
      "displayName": "kunal jain",
      "photoUrl": "https://lh3.googleusercontent.com/a-/AOh14GhJmDwfUH7SYqmJEVfeaie-qShVuFAR3LrgWe_iow=s64",
      "userId": "04911494507403859258"
     },
     "user_tz": -330
    },
    "id": "T7yfyQCpOyeb",
    "outputId": "f246e0a9-8046-41b5-8d65-82f7e0af2b24"
   },
   "outputs": [
    {
     "data": {
      "text/plain": [
       "(794299, 6)"
      ]
     },
     "execution_count": 69,
     "metadata": {
      "tags": []
     },
     "output_type": "execute_result"
    }
   ],
   "source": [
    "df_IO.shape"
   ]
  },
  {
   "cell_type": "code",
   "execution_count": 72,
   "metadata": {
    "colab": {
     "base_uri": "https://localhost:8080/",
     "height": 483
    },
    "colab_type": "code",
    "executionInfo": {
     "elapsed": 1715,
     "status": "ok",
     "timestamp": 1595787303548,
     "user": {
      "displayName": "kunal jain",
      "photoUrl": "https://lh3.googleusercontent.com/a-/AOh14GhJmDwfUH7SYqmJEVfeaie-qShVuFAR3LrgWe_iow=s64",
      "userId": "04911494507403859258"
     },
     "user_tz": -330
    },
    "id": "9o07XcejU4kv",
    "outputId": "2ec9eca0-8e87-4a52-c0d5-2cb9f75a91a8"
   },
   "outputs": [
    {
     "data": {
      "image/png": "[encoded data removed]",
      "text/plain": [
       "<Figure size 720x576 with 1 Axes>"
      ]
     },
     "metadata": {
      "needs_background": "light",
      "tags": []
     },
     "output_type": "display_data"
    }
   ],
   "source": [
    "#Number of tweets in the dataset for each company and plot of data where number of tweets > 10000\n",
    "\n",
    "temp = df_IO.groupby(\"author_id_y\")[\"text_x\"].count().sort_values()\n",
    "c = temp[temp>10000].plot(kind='barh',figsize=(10, 8))\n",
    "c.set_ylabel('')\n",
    "plt.show()"
   ]
  },
  {
   "cell_type": "markdown",
   "metadata": {
    "colab_type": "text",
    "id": "LqbbGZd_JLEN"
   },
   "source": [
    "Text Preprocessing of tweets "
   ]
  },
  {
   "cell_type": "code",
   "execution_count": 110,
   "metadata": {
    "colab": {},
    "colab_type": "code",
    "executionInfo": {
     "elapsed": 1045,
     "status": "ok",
     "timestamp": 1595800028172,
     "user": {
      "displayName": "kunal jain",
      "photoUrl": "https://lh3.googleusercontent.com/a-/AOh14GhJmDwfUH7SYqmJEVfeaie-qShVuFAR3LrgWe_iow=s64",
      "userId": "04911494507403859258"
     },
     "user_tz": -330
    },
    "id": "WpsdtrP7HD0D"
   },
   "outputs": [],
   "source": [
    "from bs4 import BeautifulSoup\n",
    "import string\n",
    "import re"
   ]
  },
  {
   "cell_type": "code",
   "execution_count": 78,
   "metadata": {
    "colab": {
     "base_uri": "https://localhost:8080/",
     "height": 34
    },
    "colab_type": "code",
    "executionInfo": {
     "elapsed": 1398,
     "status": "ok",
     "timestamp": 1595789049266,
     "user": {
      "displayName": "kunal jain",
      "photoUrl": "https://lh3.googleusercontent.com/a-/AOh14GhJmDwfUH7SYqmJEVfeaie-qShVuFAR3LrgWe_iow=s64",
      "userId": "04911494507403859258"
     },
     "user_tz": -330
    },
    "id": "YtNsa-KWcCTE",
    "outputId": "294bcc0e-da9c-498f-82ea-296fefe8f951"
   },
   "outputs": [
    {
     "name": "stdout",
     "output_type": "stream",
     "text": [
      "{'>', '~', '*', '!', '.', ']', '`', '?', '(', '=', ')', '/', \"'\", '{', '}', '@', ';', '%', '<', ':', ',', '^', '\\\\', '&', '[', '+', '$', '#', '|', '-', '\"', '_'}\n"
     ]
    }
   ],
   "source": [
    "te=set(string.punctuation)\n",
    "print(te)"
   ]
  },
  {
   "cell_type": "code",
   "execution_count": 111,
   "metadata": {
    "colab": {},
    "colab_type": "code",
    "executionInfo": {
     "elapsed": 24615,
     "status": "ok",
     "timestamp": 1595800063275,
     "user": {
      "displayName": "kunal jain",
      "photoUrl": "https://lh3.googleusercontent.com/a-/AOh14GhJmDwfUH7SYqmJEVfeaie-qShVuFAR3LrgWe_iow=s64",
      "userId": "04911494507403859258"
     },
     "user_tz": -330
    },
    "id": "xS3vZRxTWXR5"
   },
   "outputs": [],
   "source": [
    "url_pattern = re.compile(r'https?://\\S+|www\\.\\S+')\n",
    "html_pattern = re.compile('<.*?>')\n",
    "\n",
    "def cleanText(text):\n",
    "    text = html_pattern.sub(r'', text) #remove html content\n",
    "    text = \"\".join([char for char in text if char not in string.punctuation]) # It will discard all punctuations\n",
    "    text = url_pattern.sub(r'', text) #remove urls\n",
    "    text = text.lower() #lowercase the words\n",
    "    return text\n",
    "df_IO['text_x'] = df_IO['text_x'].apply(cleanText)\n",
    "df_IO['text_y'] = df_IO['text_y'].apply(cleanText)"
   ]
  },
  {
   "cell_type": "code",
   "execution_count": 95,
   "metadata": {
    "colab": {
     "base_uri": "https://localhost:8080/",
     "height": 289
    },
    "colab_type": "code",
    "executionInfo": {
     "elapsed": 1159,
     "status": "ok",
     "timestamp": 1595789880214,
     "user": {
      "displayName": "kunal jain",
      "photoUrl": "https://lh3.googleusercontent.com/a-/AOh14GhJmDwfUH7SYqmJEVfeaie-qShVuFAR3LrgWe_iow=s64",
      "userId": "04911494507403859258"
     },
     "user_tz": -330
    },
    "id": "C8RgDN5RaJi2",
    "outputId": "78daa0b1-11dd-44aa-999a-39fb56ffbf00"
   },
   "outputs": [
    {
     "data": {
      "text/html": [
       "<div>\n",
       "<style scoped>\n",
       "    .dataframe tbody tr th:only-of-type {\n",
       "        vertical-align: middle;\n",
       "    }\n",
       "\n",
       "    .dataframe tbody tr th {\n",
       "        vertical-align: top;\n",
       "    }\n",
       "\n",
       "    .dataframe thead th {\n",
       "        text-align: right;\n",
       "    }\n",
       "</style>\n",
       "<table border=\"1\" class=\"dataframe\">\n",
       "  <thead>\n",
       "    <tr style=\"text-align: right;\">\n",
       "      <th></th>\n",
       "      <th>author_id_x</th>\n",
       "      <th>created_at_x</th>\n",
       "      <th>text_x</th>\n",
       "      <th>author_id_y</th>\n",
       "      <th>created_at_y</th>\n",
       "      <th>text_y</th>\n",
       "    </tr>\n",
       "  </thead>\n",
       "  <tbody>\n",
       "    <tr>\n",
       "      <th>0</th>\n",
       "      <td>115712</td>\n",
       "      <td>Tue Oct 31 21:45:10 +0000 2017</td>\n",
       "      <td>sprintcare worst customer service</td>\n",
       "      <td>sprintcare</td>\n",
       "      <td>Tue Oct 31 21:46:24 +0000 2017</td>\n",
       "      <td>115712 please send us private message gain det...</td>\n",
       "    </tr>\n",
       "    <tr>\n",
       "      <th>1</th>\n",
       "      <td>115712</td>\n",
       "      <td>Tue Oct 31 21:45:10 +0000 2017</td>\n",
       "      <td>sprintcare worst customer service</td>\n",
       "      <td>sprintcare</td>\n",
       "      <td>Tue Oct 31 21:46:14 +0000 2017</td>\n",
       "      <td>115712 would love chance review account provid...</td>\n",
       "    </tr>\n",
       "    <tr>\n",
       "      <th>2</th>\n",
       "      <td>115712</td>\n",
       "      <td>Tue Oct 31 21:45:10 +0000 2017</td>\n",
       "      <td>sprintcare worst customer service</td>\n",
       "      <td>sprintcare</td>\n",
       "      <td>Tue Oct 31 21:45:59 +0000 2017</td>\n",
       "      <td>115712 hello never like customers feel like va...</td>\n",
       "    </tr>\n",
       "    <tr>\n",
       "      <th>3</th>\n",
       "      <td>115713</td>\n",
       "      <td>Tue Oct 31 19:56:01 +0000 2017</td>\n",
       "      <td>115714 y’all lie “great” connection 5 bars lte...</td>\n",
       "      <td>sprintcare</td>\n",
       "      <td>Tue Oct 31 19:59:13 +0000 2017</td>\n",
       "      <td>115713 h wed definitely like work long experie...</td>\n",
       "    </tr>\n",
       "    <tr>\n",
       "      <th>4</th>\n",
       "      <td>115715</td>\n",
       "      <td>Tue Oct 31 22:03:34 +0000 2017</td>\n",
       "      <td>115714 whenever contact customer support tell ...</td>\n",
       "      <td>sprintcare</td>\n",
       "      <td>Tue Oct 31 22:10:10 +0000 2017</td>\n",
       "      <td>115715 please send private message send link a...</td>\n",
       "    </tr>\n",
       "  </tbody>\n",
       "</table>\n",
       "</div>"
      ],
      "text/plain": [
       "  author_id_x  ...                                             text_y\n",
       "0      115712  ...  115712 please send us private message gain det...\n",
       "1      115712  ...  115712 would love chance review account provid...\n",
       "2      115712  ...  115712 hello never like customers feel like va...\n",
       "3      115713  ...  115713 h wed definitely like work long experie...\n",
       "4      115715  ...  115715 please send private message send link a...\n",
       "\n",
       "[5 rows x 6 columns]"
      ]
     },
     "execution_count": 95,
     "metadata": {
      "tags": []
     },
     "output_type": "execute_result"
    }
   ],
   "source": [
    "df_IO.head()"
   ]
  },
  {
   "cell_type": "code",
   "execution_count": 112,
   "metadata": {
    "colab": {
     "base_uri": "https://localhost:8080/",
     "height": 102
    },
    "colab_type": "code",
    "executionInfo": {
     "elapsed": 1153,
     "status": "ok",
     "timestamp": 1595800076906,
     "user": {
      "displayName": "kunal jain",
      "photoUrl": "https://lh3.googleusercontent.com/a-/AOh14GhJmDwfUH7SYqmJEVfeaie-qShVuFAR3LrgWe_iow=s64",
      "userId": "04911494507403859258"
     },
     "user_tz": -330
    },
    "id": "LXJ0tsX9eoQk",
    "outputId": "4364aa7f-10c3-4d60-cecc-c7439542e5d5"
   },
   "outputs": [
    {
     "name": "stdout",
     "output_type": "stream",
     "text": [
      "[nltk_data] Downloading package stopwords to /root/nltk_data...\n",
      "[nltk_data]   Package stopwords is already up-to-date!\n",
      "[nltk_data] Downloading package wordnet to /root/nltk_data...\n",
      "[nltk_data]   Package wordnet is already up-to-date!\n"
     ]
    },
    {
     "data": {
      "text/plain": [
       "True"
      ]
     },
     "execution_count": 112,
     "metadata": {
      "tags": []
     },
     "output_type": "execute_result"
    }
   ],
   "source": [
    "import nltk\n",
    "nltk.download('stopwords')\n",
    "nltk.download('wordnet')"
   ]
  },
  {
   "cell_type": "code",
   "execution_count": 113,
   "metadata": {
    "colab": {},
    "colab_type": "code",
    "executionInfo": {
     "elapsed": 8427,
     "status": "ok",
     "timestamp": 1595800087990,
     "user": {
      "displayName": "kunal jain",
      "photoUrl": "https://lh3.googleusercontent.com/a-/AOh14GhJmDwfUH7SYqmJEVfeaie-qShVuFAR3LrgWe_iow=s64",
      "userId": "04911494507403859258"
     },
     "user_tz": -330
    },
    "id": "u0GvB1VJcWRM"
   },
   "outputs": [],
   "source": [
    "#Remove stopwords \n",
    "STOPWORDS = set(nltk.corpus.stopwords.words('english'))\n",
    "def remove_stopwords(text):\n",
    "    return \" \".join([word for word in str(text).split() if word not in STOPWORDS])\n",
    "df_IO['text_x'] = df_IO['text_x'].apply(remove_stopwords)\n",
    "df_IO['text_y'] = df_IO['text_y'].apply(remove_stopwords)"
   ]
  },
  {
   "cell_type": "code",
   "execution_count": 114,
   "metadata": {
    "colab": {},
    "colab_type": "code",
    "executionInfo": {
     "elapsed": 72665,
     "status": "ok",
     "timestamp": 1595800163946,
     "user": {
      "displayName": "kunal jain",
      "photoUrl": "https://lh3.googleusercontent.com/a-/AOh14GhJmDwfUH7SYqmJEVfeaie-qShVuFAR3LrgWe_iow=s64",
      "userId": "04911494507403859258"
     },
     "user_tz": -330
    },
    "id": "q45WNPc9eycC"
   },
   "outputs": [],
   "source": [
    "#Lemmatize the text words(roots will remain intact)\n",
    "lemmatizer=nltk.stem.WordNetLemmatizer()\n",
    "def lemmatize_words(text):\n",
    "    return \" \".join([lemmatizer.lemmatize(word) for word in text.split()])\n",
    "df_IO['text_x'] = df_IO['text_x'].apply(lemmatize_words)\n",
    "df_IO['text_y'] = df_IO['text_y'].apply(lemmatize_words)"
   ]
  },
  {
   "cell_type": "code",
   "execution_count": 118,
   "metadata": {
    "colab": {
     "base_uri": "https://localhost:8080/",
     "height": 289
    },
    "colab_type": "code",
    "executionInfo": {
     "elapsed": 794,
     "status": "ok",
     "timestamp": 1595800822610,
     "user": {
      "displayName": "kunal jain",
      "photoUrl": "https://lh3.googleusercontent.com/a-/AOh14GhJmDwfUH7SYqmJEVfeaie-qShVuFAR3LrgWe_iow=s64",
      "userId": "04911494507403859258"
     },
     "user_tz": -330
    },
    "id": "ppgzKbzaGic5",
    "outputId": "9454f73e-8a04-43f4-bab6-6b1b7be8a25f"
   },
   "outputs": [
    {
     "data": {
      "text/html": [
       "<div>\n",
       "<style scoped>\n",
       "    .dataframe tbody tr th:only-of-type {\n",
       "        vertical-align: middle;\n",
       "    }\n",
       "\n",
       "    .dataframe tbody tr th {\n",
       "        vertical-align: top;\n",
       "    }\n",
       "\n",
       "    .dataframe thead th {\n",
       "        text-align: right;\n",
       "    }\n",
       "</style>\n",
       "<table border=\"1\" class=\"dataframe\">\n",
       "  <thead>\n",
       "    <tr style=\"text-align: right;\">\n",
       "      <th></th>\n",
       "      <th>author_id_x</th>\n",
       "      <th>created_at_x</th>\n",
       "      <th>text_x</th>\n",
       "      <th>author_id_y</th>\n",
       "      <th>created_at_y</th>\n",
       "      <th>text_y</th>\n",
       "    </tr>\n",
       "  </thead>\n",
       "  <tbody>\n",
       "    <tr>\n",
       "      <th>0</th>\n",
       "      <td>115712</td>\n",
       "      <td>Tue Oct 31 21:45:10 +0000 2017</td>\n",
       "      <td>worst customer service</td>\n",
       "      <td>sprintcare</td>\n",
       "      <td>Tue Oct 31 21:46:24 +0000 2017</td>\n",
       "      <td>please send u private message gain detail acc...</td>\n",
       "    </tr>\n",
       "    <tr>\n",
       "      <th>1</th>\n",
       "      <td>115712</td>\n",
       "      <td>Tue Oct 31 21:45:10 +0000 2017</td>\n",
       "      <td>worst customer service</td>\n",
       "      <td>sprintcare</td>\n",
       "      <td>Tue Oct 31 21:46:14 +0000 2017</td>\n",
       "      <td>would love chance review account provide assi...</td>\n",
       "    </tr>\n",
       "    <tr>\n",
       "      <th>2</th>\n",
       "      <td>115712</td>\n",
       "      <td>Tue Oct 31 21:45:10 +0000 2017</td>\n",
       "      <td>worst customer service</td>\n",
       "      <td>sprintcare</td>\n",
       "      <td>Tue Oct 31 21:45:59 +0000 2017</td>\n",
       "      <td>hello never like customer feel like valued</td>\n",
       "    </tr>\n",
       "    <tr>\n",
       "      <th>3</th>\n",
       "      <td>115713</td>\n",
       "      <td>Tue Oct 31 19:56:01 +0000 2017</td>\n",
       "      <td>y’all lie “great” connection  bar lte still w...</td>\n",
       "      <td>sprintcare</td>\n",
       "      <td>Tue Oct 31 19:59:13 +0000 2017</td>\n",
       "      <td>h wed definitely like work long experiencing ...</td>\n",
       "    </tr>\n",
       "    <tr>\n",
       "      <th>4</th>\n",
       "      <td>115715</td>\n",
       "      <td>Tue Oct 31 22:03:34 +0000 2017</td>\n",
       "      <td>whenever contact customer support tell shortc...</td>\n",
       "      <td>sprintcare</td>\n",
       "      <td>Tue Oct 31 22:10:10 +0000 2017</td>\n",
       "      <td>please send private message send link access ...</td>\n",
       "    </tr>\n",
       "  </tbody>\n",
       "</table>\n",
       "</div>"
      ],
      "text/plain": [
       "  author_id_x  ...                                             text_y\n",
       "0      115712  ...   please send u private message gain detail acc...\n",
       "1      115712  ...   would love chance review account provide assi...\n",
       "2      115712  ...         hello never like customer feel like valued\n",
       "3      115713  ...   h wed definitely like work long experiencing ...\n",
       "4      115715  ...   please send private message send link access ...\n",
       "\n",
       "[5 rows x 6 columns]"
      ]
     },
     "execution_count": 118,
     "metadata": {
      "tags": []
     },
     "output_type": "execute_result"
    }
   ],
   "source": [
    "df_IO.head()"
   ]
  },
  {
   "cell_type": "code",
   "execution_count": 117,
   "metadata": {
    "colab": {},
    "colab_type": "code",
    "executionInfo": {
     "elapsed": 22473,
     "status": "ok",
     "timestamp": 1595800816926,
     "user": {
      "displayName": "kunal jain",
      "photoUrl": "https://lh3.googleusercontent.com/a-/AOh14GhJmDwfUH7SYqmJEVfeaie-qShVuFAR3LrgWe_iow=s64",
      "userId": "04911494507403859258"
     },
     "user_tz": -330
    },
    "id": "eElrDzJsGkcW"
   },
   "outputs": [],
   "source": [
    "#Since finding the topics and sentiment from text/tweet has nothing to do with author id in the text, we are removing it from the tweets\n",
    "companies = df_IO['author_id_y'].unique()\n",
    "#Remove consumer ids\n",
    "df_IO['text_x'] = df_IO['text_x'].str.replace('\\d+', '')\n",
    "df_IO['text_y'] = df_IO['text_y'].str.replace('\\d+', '')\n",
    "#Remove company ids\n",
    "df_IO['text_x'] = df_IO['text_x'].str.replace('|'.join(companies), '')\n",
    "df_IO['text_y'] = df_IO['text_y'].str.replace('|'.join(companies), '')"
   ]
  },
  {
   "cell_type": "markdown",
   "metadata": {
    "colab_type": "text",
    "id": "qgbsIbceJFcF"
   },
   "source": [
    "Finding topics from tweets"
   ]
  },
  {
   "cell_type": "code",
   "execution_count": 119,
   "metadata": {
    "colab": {},
    "colab_type": "code",
    "executionInfo": {
     "elapsed": 3218,
     "status": "ok",
     "timestamp": 1595801405565,
     "user": {
      "displayName": "kunal jain",
      "photoUrl": "https://lh3.googleusercontent.com/a-/AOh14GhJmDwfUH7SYqmJEVfeaie-qShVuFAR3LrgWe_iow=s64",
      "userId": "04911494507403859258"
     },
     "user_tz": -330
    },
    "id": "wCCWI4EZIzII"
   },
   "outputs": [],
   "source": [
    "from tqdm import tqdm\n",
    "tqdm.pandas(desc=\"progress-bar\")\n",
    "from gensim.models import Doc2Vec\n",
    "from sklearn import utils\n",
    "from sklearn.model_selection import train_test_split\n",
    "import gensim\n",
    "from sklearn.linear_model import LogisticRegression\n",
    "from gensim.models.doc2vec import TaggedDocument"
   ]
  },
  {
   "cell_type": "code",
   "execution_count": 120,
   "metadata": {
    "colab": {},
    "colab_type": "code",
    "executionInfo": {
     "elapsed": 2119,
     "status": "ok",
     "timestamp": 1595801812073,
     "user": {
      "displayName": "kunal jain",
      "photoUrl": "https://lh3.googleusercontent.com/a-/AOh14GhJmDwfUH7SYqmJEVfeaie-qShVuFAR3LrgWe_iow=s64",
      "userId": "04911494507403859258"
     },
     "user_tz": -330
    },
    "id": "6rQBXUqPMqox"
   },
   "outputs": [],
   "source": [
    "train_data=df_IO[\"text_x\"]"
   ]
  },
  {
   "cell_type": "code",
   "execution_count": 122,
   "metadata": {
    "colab": {
     "base_uri": "https://localhost:8080/",
     "height": 34
    },
    "colab_type": "code",
    "executionInfo": {
     "elapsed": 1588,
     "status": "ok",
     "timestamp": 1595801920796,
     "user": {
      "displayName": "kunal jain",
      "photoUrl": "https://lh3.googleusercontent.com/a-/AOh14GhJmDwfUH7SYqmJEVfeaie-qShVuFAR3LrgWe_iow=s64",
      "userId": "04911494507403859258"
     },
     "user_tz": -330
    },
    "id": "IviOaHQQM0OS",
    "outputId": "8b21f423-1057-4b72-ea8b-395dc7acc22c"
   },
   "outputs": [
    {
     "data": {
      "text/plain": [
       "False"
      ]
     },
     "execution_count": 122,
     "metadata": {
      "tags": []
     },
     "output_type": "execute_result"
    }
   ],
   "source": [
    "train_data.drop_duplicates(inplace=True)\n",
    "train_data.duplicated().any()"
   ]
  },
  {
   "cell_type": "code",
   "execution_count": 125,
   "metadata": {
    "colab": {},
    "colab_type": "code",
    "executionInfo": {
     "elapsed": 1552,
     "status": "ok",
     "timestamp": 1595802419925,
     "user": {
      "displayName": "kunal jain",
      "photoUrl": "https://lh3.googleusercontent.com/a-/AOh14GhJmDwfUH7SYqmJEVfeaie-qShVuFAR3LrgWe_iow=s64",
      "userId": "04911494507403859258"
     },
     "user_tz": -330
    },
    "id": "8Pul1e_aOR-Z"
   },
   "outputs": [],
   "source": [
    "train_data=pd.DataFrame(train_data)\n",
    "train_data.head()\n",
    "train_data=list(train_data['text_x'])"
   ]
  },
  {
   "cell_type": "code",
   "execution_count": 126,
   "metadata": {
    "colab": {
     "base_uri": "https://localhost:8080/",
     "height": 102
    },
    "colab_type": "code",
    "executionInfo": {
     "elapsed": 1254,
     "status": "ok",
     "timestamp": 1595802435886,
     "user": {
      "displayName": "kunal jain",
      "photoUrl": "https://lh3.googleusercontent.com/a-/AOh14GhJmDwfUH7SYqmJEVfeaie-qShVuFAR3LrgWe_iow=s64",
      "userId": "04911494507403859258"
     },
     "user_tz": -330
    },
    "id": "vV4z3uMyPJcr",
    "outputId": "a387b0fa-1117-4518-a0ed-b5b5636ccc92"
   },
   "outputs": [
    {
     "data": {
      "text/plain": [
       "[' worst customer service',\n",
       " ' y’all lie “great” connection  bar lte still won’t load something smh',\n",
       " ' whenever contact customer support tell shortcode enabled account never  year ive tried httpstcogrtnxpk',\n",
       " 'actually thats broken link sent incorrect information httpstcovyfrhrvi',\n",
       " 'yo askspectrum customer service rep super nice— imma start trippin y’all don’t get service going']"
      ]
     },
     "execution_count": 126,
     "metadata": {
      "tags": []
     },
     "output_type": "execute_result"
    }
   ],
   "source": [
    "train_data[:5]"
   ]
  },
  {
   "cell_type": "code",
   "execution_count": 128,
   "metadata": {
    "colab": {
     "base_uri": "https://localhost:8080/",
     "height": 68
    },
    "colab_type": "code",
    "executionInfo": {
     "elapsed": 1594,
     "status": "ok",
     "timestamp": 1595802595820,
     "user": {
      "displayName": "kunal jain",
      "photoUrl": "https://lh3.googleusercontent.com/a-/AOh14GhJmDwfUH7SYqmJEVfeaie-qShVuFAR3LrgWe_iow=s64",
      "userId": "04911494507403859258"
     },
     "user_tz": -330
    },
    "id": "mXL9-2zvPyNy",
    "outputId": "a54f0792-a275-41b9-9d01-269a3e6615c3"
   },
   "outputs": [
    {
     "name": "stdout",
     "output_type": "stream",
     "text": [
      "[nltk_data] Downloading package punkt to /root/nltk_data...\n",
      "[nltk_data]   Unzipping tokenizers/punkt.zip.\n"
     ]
    },
    {
     "data": {
      "text/plain": [
       "True"
      ]
     },
     "execution_count": 128,
     "metadata": {
      "tags": []
     },
     "output_type": "execute_result"
    }
   ],
   "source": [
    "nltk.download('punkt')"
   ]
  },
  {
   "cell_type": "code",
   "execution_count": 129,
   "metadata": {
    "colab": {},
    "colab_type": "code",
    "executionInfo": {
     "elapsed": 97065,
     "status": "ok",
     "timestamp": 1595802696552,
     "user": {
      "displayName": "kunal jain",
      "photoUrl": "https://lh3.googleusercontent.com/a-/AOh14GhJmDwfUH7SYqmJEVfeaie-qShVuFAR3LrgWe_iow=s64",
      "userId": "04911494507403859258"
     },
     "user_tz": -330
    },
    "id": "NIY16l-sLPtz"
   },
   "outputs": [],
   "source": [
    "tagged_data = [TaggedDocument(words=nltk.word_tokenize(_d.lower()), tags=[str(i)]) for i, _d in enumerate(train_data)]"
   ]
  },
  {
   "cell_type": "code",
   "execution_count": 133,
   "metadata": {
    "colab": {
     "base_uri": "https://localhost:8080/",
     "height": 34
    },
    "colab_type": "code",
    "executionInfo": {
     "elapsed": 1124,
     "status": "ok",
     "timestamp": 1595802816825,
     "user": {
      "displayName": "kunal jain",
      "photoUrl": "https://lh3.googleusercontent.com/a-/AOh14GhJmDwfUH7SYqmJEVfeaie-qShVuFAR3LrgWe_iow=s64",
      "userId": "04911494507403859258"
     },
     "user_tz": -330
    },
    "id": "Vj5u5KrjPr3c",
    "outputId": "5f144c6a-3f25-4517-fb4c-8715c353d770"
   },
   "outputs": [
    {
     "data": {
      "text/plain": [
       "TaggedDocument(words=['actually', 'thats', 'broken', 'link', 'sent', 'incorrect', 'information', 'httpstcovyfrhrvi'], tags=['3'])"
      ]
     },
     "execution_count": 133,
     "metadata": {
      "tags": []
     },
     "output_type": "execute_result"
    }
   ],
   "source": [
    "tagged_data[3]"
   ]
  },
  {
   "cell_type": "code",
   "execution_count": 134,
   "metadata": {
    "colab": {},
    "colab_type": "code",
    "executionInfo": {
     "elapsed": 1178,
     "status": "ok",
     "timestamp": 1595802944992,
     "user": {
      "displayName": "kunal jain",
      "photoUrl": "https://lh3.googleusercontent.com/a-/AOh14GhJmDwfUH7SYqmJEVfeaie-qShVuFAR3LrgWe_iow=s64",
      "userId": "04911494507403859258"
     },
     "user_tz": -330
    },
    "id": "Nj4y8pswQbF1"
   },
   "outputs": [],
   "source": [
    "import multiprocessing\n",
    "cores = multiprocessing.cpu_count()"
   ]
  },
  {
   "cell_type": "code",
   "execution_count": 136,
   "metadata": {
    "colab": {},
    "colab_type": "code",
    "executionInfo": {
     "elapsed": 2053,
     "status": "ok",
     "timestamp": 1595803021818,
     "user": {
      "displayName": "kunal jain",
      "photoUrl": "https://lh3.googleusercontent.com/a-/AOh14GhJmDwfUH7SYqmJEVfeaie-qShVuFAR3LrgWe_iow=s64",
      "userId": "04911494507403859258"
     },
     "user_tz": -330
    },
    "id": "oWlXImwURIDt"
   },
   "outputs": [],
   "source": [
    "tagged_data=pd.Series(tagged_data)"
   ]
  },
  {
   "cell_type": "code",
   "execution_count": 137,
   "metadata": {
    "colab": {
     "base_uri": "https://localhost:8080/",
     "height": 173
    },
    "colab_type": "code",
    "executionInfo": {
     "elapsed": 1256,
     "status": "ok",
     "timestamp": 1595803031565,
     "user": {
      "displayName": "kunal jain",
      "photoUrl": "https://lh3.googleusercontent.com/a-/AOh14GhJmDwfUH7SYqmJEVfeaie-qShVuFAR3LrgWe_iow=s64",
      "userId": "04911494507403859258"
     },
     "user_tz": -330
    },
    "id": "8-LW4F9ZROyt",
    "outputId": "2856854f-2487-4695-8865-eab261ca05b1"
   },
   "outputs": [
    {
     "data": {
      "text/plain": [
       "array([TaggedDocument(words=['worst', 'customer', 'service'], tags=['0']),\n",
       "       TaggedDocument(words=['y', '’', 'all', 'lie', '“', 'great', '”', 'connection', 'bar', 'lte', 'still', 'won', '’', 't', 'load', 'something', 'smh'], tags=['1']),\n",
       "       TaggedDocument(words=['whenever', 'contact', 'customer', 'support', 'tell', 'shortcode', 'enabled', 'account', 'never', 'year', 'ive', 'tried', 'httpstcogrtnxpk'], tags=['2']),\n",
       "       ...,\n",
       "       TaggedDocument(words=['virgintrains', 'hope', 'well', 'am', 'train', 'crewe', 'euston', 'class', 'peak', 'offpeak', 'thanks'], tags=['726578']),\n",
       "       TaggedDocument(words=['wtf', 'i', '’', 've', 'really', 'shitty', 'service', 'day', 'get', 'shit', 'together'], tags=['726579']),\n",
       "       TaggedDocument(words=['aldiuk', 'warm', 'sloe', 'gin', 'mince', 'pie', 'ice', 'cream', 'best', 'thing', 'ever', 'notjustxmasallyearround'], tags=['726580'])],\n",
       "      dtype=object)"
      ]
     },
     "execution_count": 137,
     "metadata": {
      "tags": []
     },
     "output_type": "execute_result"
    }
   ],
   "source": [
    "tagged_data.values"
   ]
  },
  {
   "cell_type": "code",
   "execution_count": 139,
   "metadata": {
    "colab": {
     "base_uri": "https://localhost:8080/",
     "height": 34
    },
    "colab_type": "code",
    "executionInfo": {
     "elapsed": 165682,
     "status": "ok",
     "timestamp": 1595803229889,
     "user": {
      "displayName": "kunal jain",
      "photoUrl": "https://lh3.googleusercontent.com/a-/AOh14GhJmDwfUH7SYqmJEVfeaie-qShVuFAR3LrgWe_iow=s64",
      "userId": "04911494507403859258"
     },
     "user_tz": -330
    },
    "id": "ugAbtVo_RdF7",
    "outputId": "67fc8dca-a113-40a9-f7f7-79dfe9708924"
   },
   "outputs": [
    {
     "name": "stderr",
     "output_type": "stream",
     "text": [
      "100%|██████████| 726581/726581 [00:00<00:00, 2542281.60it/s]\n"
     ]
    }
   ],
   "source": [
    "#Doc2Vec approach\n",
    "model_dbow = Doc2Vec(dm=0, vector_size=300, negative=5, hs=0, min_count=2, sample = 0, workers=cores)\n",
    "model_dbow.build_vocab([x for x in tqdm(tagged_data.values)])"
   ]
  },
  {
   "cell_type": "code",
   "execution_count": 140,
   "metadata": {
    "colab": {
     "base_uri": "https://localhost:8080/",
     "height": 748
    },
    "colab_type": "code",
    "executionInfo": {
     "elapsed": 877522,
     "status": "error",
     "timestamp": 1595804342930,
     "user": {
      "displayName": "kunal jain",
      "photoUrl": "https://lh3.googleusercontent.com/a-/AOh14GhJmDwfUH7SYqmJEVfeaie-qShVuFAR3LrgWe_iow=s64",
      "userId": "04911494507403859258"
     },
     "user_tz": -330
    },
    "id": "J2RJ3EB7Riy-",
    "outputId": "891cb2c6-0579-49b7-d620-2ef0993bc9d4"
   },
   "outputs": [
    {
     "name": "stdout",
     "output_type": "stream",
     "text": [
      "epoch 0\n",
      "epoch 1\n",
      "epoch 2\n",
      "epoch 3\n",
      "epoch 4\n",
      "epoch 5\n",
      "epoch 6\n",
      "epoch 7\n",
      "epoch 8\n",
      "epoch 9\n",
      "epoch 10\n",
      "epoch 11\n",
      "epoch 12\n",
      "epoch 13\n",
      "epoch 14\n",
      "epoch 15\n",
      "epoch 16\n",
      "epoch 17\n",
      "epoch 18\n",
      "epoch 19\n"
     ]
    },
    {
     "ename": "NameError",
     "evalue": "ignored",
     "output_type": "error",
     "traceback": [
      "\u001b[0;31m---------------------------------------------------------------------------\u001b[0m",
      "\u001b[0;31mNameError\u001b[0m                                 Traceback (most recent call last)",
      "\u001b[0;32m<ipython-input-140-ccf20f9fbee7>\u001b[0m in \u001b[0;36m<module>\u001b[0;34m()\u001b[0m\n\u001b[0;32m----> 1\u001b[0;31m \u001b[0mget_ipython\u001b[0m\u001b[0;34m(\u001b[0m\u001b[0;34m)\u001b[0m\u001b[0;34m.\u001b[0m\u001b[0mrun_cell_magic\u001b[0m\u001b[0;34m(\u001b[0m\u001b[0;34m'time'\u001b[0m\u001b[0;34m,\u001b[0m \u001b[0;34m''\u001b[0m\u001b[0;34m,\u001b[0m \u001b[0;34m'for epoch in range(20):\\n    print(\"epoch \"+str(epoch))\\n    model_dbow.train(tagged_data.values, total_examples=len(tagged_data.values), epochs=1)\\n    model_dbow.alpha -= 0.002\\n    model_dbow.min_alpha = model_dbow.alpha\\nmodel.save(\\'twitter_topic_analysis.model\\')'\u001b[0m\u001b[0;34m)\u001b[0m\u001b[0;34m\u001b[0m\u001b[0;34m\u001b[0m\u001b[0m\n\u001b[0m",
      "\u001b[0;32m/usr/local/lib/python3.6/dist-packages/IPython/core/interactiveshell.py\u001b[0m in \u001b[0;36mrun_cell_magic\u001b[0;34m(self, magic_name, line, cell)\u001b[0m\n\u001b[1;32m   2115\u001b[0m             \u001b[0mmagic_arg_s\u001b[0m \u001b[0;34m=\u001b[0m \u001b[0mself\u001b[0m\u001b[0;34m.\u001b[0m\u001b[0mvar_expand\u001b[0m\u001b[0;34m(\u001b[0m\u001b[0mline\u001b[0m\u001b[0;34m,\u001b[0m \u001b[0mstack_depth\u001b[0m\u001b[0;34m)\u001b[0m\u001b[0;34m\u001b[0m\u001b[0;34m\u001b[0m\u001b[0m\n\u001b[1;32m   2116\u001b[0m             \u001b[0;32mwith\u001b[0m \u001b[0mself\u001b[0m\u001b[0;34m.\u001b[0m\u001b[0mbuiltin_trap\u001b[0m\u001b[0;34m:\u001b[0m\u001b[0;34m\u001b[0m\u001b[0;34m\u001b[0m\u001b[0m\n\u001b[0;32m-> 2117\u001b[0;31m                 \u001b[0mresult\u001b[0m \u001b[0;34m=\u001b[0m \u001b[0mfn\u001b[0m\u001b[0;34m(\u001b[0m\u001b[0mmagic_arg_s\u001b[0m\u001b[0;34m,\u001b[0m \u001b[0mcell\u001b[0m\u001b[0;34m)\u001b[0m\u001b[0;34m\u001b[0m\u001b[0;34m\u001b[0m\u001b[0m\n\u001b[0m\u001b[1;32m   2118\u001b[0m             \u001b[0;32mreturn\u001b[0m \u001b[0mresult\u001b[0m\u001b[0;34m\u001b[0m\u001b[0;34m\u001b[0m\u001b[0m\n\u001b[1;32m   2119\u001b[0m \u001b[0;34m\u001b[0m\u001b[0m\n",
      "\u001b[0;32m<decorator-gen-60>\u001b[0m in \u001b[0;36mtime\u001b[0;34m(self, line, cell, local_ns)\u001b[0m\n",
      "\u001b[0;32m/usr/local/lib/python3.6/dist-packages/IPython/core/magic.py\u001b[0m in \u001b[0;36m<lambda>\u001b[0;34m(f, *a, **k)\u001b[0m\n\u001b[1;32m    186\u001b[0m     \u001b[0;31m# but it's overkill for just that one bit of state.\u001b[0m\u001b[0;34m\u001b[0m\u001b[0;34m\u001b[0m\u001b[0;34m\u001b[0m\u001b[0m\n\u001b[1;32m    187\u001b[0m     \u001b[0;32mdef\u001b[0m \u001b[0mmagic_deco\u001b[0m\u001b[0;34m(\u001b[0m\u001b[0marg\u001b[0m\u001b[0;34m)\u001b[0m\u001b[0;34m:\u001b[0m\u001b[0;34m\u001b[0m\u001b[0;34m\u001b[0m\u001b[0m\n\u001b[0;32m--> 188\u001b[0;31m         \u001b[0mcall\u001b[0m \u001b[0;34m=\u001b[0m \u001b[0;32mlambda\u001b[0m \u001b[0mf\u001b[0m\u001b[0;34m,\u001b[0m \u001b[0;34m*\u001b[0m\u001b[0ma\u001b[0m\u001b[0;34m,\u001b[0m \u001b[0;34m**\u001b[0m\u001b[0mk\u001b[0m\u001b[0;34m:\u001b[0m \u001b[0mf\u001b[0m\u001b[0;34m(\u001b[0m\u001b[0;34m*\u001b[0m\u001b[0ma\u001b[0m\u001b[0;34m,\u001b[0m \u001b[0;34m**\u001b[0m\u001b[0mk\u001b[0m\u001b[0;34m)\u001b[0m\u001b[0;34m\u001b[0m\u001b[0;34m\u001b[0m\u001b[0m\n\u001b[0m\u001b[1;32m    189\u001b[0m \u001b[0;34m\u001b[0m\u001b[0m\n\u001b[1;32m    190\u001b[0m         \u001b[0;32mif\u001b[0m \u001b[0mcallable\u001b[0m\u001b[0;34m(\u001b[0m\u001b[0marg\u001b[0m\u001b[0;34m)\u001b[0m\u001b[0;34m:\u001b[0m\u001b[0;34m\u001b[0m\u001b[0;34m\u001b[0m\u001b[0m\n",
      "\u001b[0;32m/usr/local/lib/python3.6/dist-packages/IPython/core/magics/execution.py\u001b[0m in \u001b[0;36mtime\u001b[0;34m(self, line, cell, local_ns)\u001b[0m\n\u001b[1;32m   1191\u001b[0m         \u001b[0;32melse\u001b[0m\u001b[0;34m:\u001b[0m\u001b[0;34m\u001b[0m\u001b[0;34m\u001b[0m\u001b[0m\n\u001b[1;32m   1192\u001b[0m             \u001b[0mst\u001b[0m \u001b[0;34m=\u001b[0m \u001b[0mclock2\u001b[0m\u001b[0;34m(\u001b[0m\u001b[0;34m)\u001b[0m\u001b[0;34m\u001b[0m\u001b[0;34m\u001b[0m\u001b[0m\n\u001b[0;32m-> 1193\u001b[0;31m             \u001b[0mexec\u001b[0m\u001b[0;34m(\u001b[0m\u001b[0mcode\u001b[0m\u001b[0;34m,\u001b[0m \u001b[0mglob\u001b[0m\u001b[0;34m,\u001b[0m \u001b[0mlocal_ns\u001b[0m\u001b[0;34m)\u001b[0m\u001b[0;34m\u001b[0m\u001b[0;34m\u001b[0m\u001b[0m\n\u001b[0m\u001b[1;32m   1194\u001b[0m             \u001b[0mend\u001b[0m \u001b[0;34m=\u001b[0m \u001b[0mclock2\u001b[0m\u001b[0;34m(\u001b[0m\u001b[0;34m)\u001b[0m\u001b[0;34m\u001b[0m\u001b[0;34m\u001b[0m\u001b[0m\n\u001b[1;32m   1195\u001b[0m             \u001b[0mout\u001b[0m \u001b[0;34m=\u001b[0m \u001b[0;32mNone\u001b[0m\u001b[0;34m\u001b[0m\u001b[0;34m\u001b[0m\u001b[0m\n",
      "\u001b[0;32m<timed exec>\u001b[0m in \u001b[0;36m<module>\u001b[0;34m()\u001b[0m\n",
      "\u001b[0;31mNameError\u001b[0m: name 'model' is not defined"
     ]
    }
   ],
   "source": [
    "%%time\n",
    "for epoch in range(20):\n",
    "    print(\"epoch \"+str(epoch))\n",
    "    model_dbow.train(tagged_data.values, total_examples=len(tagged_data.values), epochs=1)\n",
    "    model_dbow.alpha -= 0.002\n",
    "    model_dbow.min_alpha = model_dbow.alpha\n",
    "#model.save('twitter_topic_analysis.model')"
   ]
  },
  {
   "cell_type": "code",
   "execution_count": 142,
   "metadata": {
    "colab": {
     "base_uri": "https://localhost:8080/",
     "height": 88
    },
    "colab_type": "code",
    "executionInfo": {
     "elapsed": 7358,
     "status": "ok",
     "timestamp": 1595804505164,
     "user": {
      "displayName": "kunal jain",
      "photoUrl": "https://lh3.googleusercontent.com/a-/AOh14GhJmDwfUH7SYqmJEVfeaie-qShVuFAR3LrgWe_iow=s64",
      "userId": "04911494507403859258"
     },
     "user_tz": -330
    },
    "id": "iTJ6I86PTHXv",
    "outputId": "e87ce805-7754-48bd-8d72-8df804665e9e"
   },
   "outputs": [
    {
     "name": "stderr",
     "output_type": "stream",
     "text": [
      "/usr/local/lib/python3.6/dist-packages/smart_open/smart_open_lib.py:254: UserWarning: This function is deprecated, use smart_open.open instead. See the migration notes for details: https://github.com/RaRe-Technologies/smart_open/blob/master/README.rst#migrating-to-the-new-open-function\n",
      "  'See the migration notes for details: %s' % _MIGRATION_NOTES_URL\n"
     ]
    },
    {
     "name": "stdout",
     "output_type": "stream",
     "text": [
      "Model Saved\n"
     ]
    }
   ],
   "source": [
    "model_dbow.save(\"d2v.model\")\n",
    "print(\"Model Saved\")"
   ]
  },
  {
   "cell_type": "code",
   "execution_count": 144,
   "metadata": {
    "colab": {
     "base_uri": "https://localhost:8080/",
     "height": 34
    },
    "colab_type": "code",
    "executionInfo": {
     "elapsed": 201573,
     "status": "ok",
     "timestamp": 1595805352744,
     "user": {
      "displayName": "kunal jain",
      "photoUrl": "https://lh3.googleusercontent.com/a-/AOh14GhJmDwfUH7SYqmJEVfeaie-qShVuFAR3LrgWe_iow=s64",
      "userId": "04911494507403859258"
     },
     "user_tz": -330
    },
    "id": "LK_03vCsW-LI",
    "outputId": "b880dac0-5ac2-4a07-d564-361d9f5f5f4e"
   },
   "outputs": [
    {
     "name": "stdout",
     "output_type": "stream",
     "text": [
      "inferring vectors\n"
     ]
    }
   ],
   "source": [
    "vectors = []\n",
    "\n",
    "print(\"inferring vectors\")\n",
    "duplicate_dict = {}\n",
    "used_lines = []\n",
    "for i, t in enumerate(train_data):\n",
    "    if i % 2 == 0 and t not in duplicate_dict:\n",
    "        duplicate_dict[t] = True\n",
    "        used_lines.append(t)\n",
    "        vectors.append(model_dbow.infer_vector(nltk.word_tokenize(t)))\n"
   ]
  },
  {
   "cell_type": "code",
   "execution_count": 145,
   "metadata": {
    "colab": {
     "base_uri": "https://localhost:8080/",
     "height": 1000
    },
    "colab_type": "code",
    "executionInfo": {
     "elapsed": 1541,
     "status": "ok",
     "timestamp": 1595805404003,
     "user": {
      "displayName": "kunal jain",
      "photoUrl": "https://lh3.googleusercontent.com/a-/AOh14GhJmDwfUH7SYqmJEVfeaie-qShVuFAR3LrgWe_iow=s64",
      "userId": "04911494507403859258"
     },
     "user_tz": -330
    },
    "id": "1-W4JVMQZeC_",
    "outputId": "420f0096-bbac-46fa-e723-5c835ad4b488"
   },
   "outputs": [
    {
     "data": {
      "text/plain": [
       "array([-4.74791527e-02, -7.31063774e-03, -3.29174008e-03, -5.13739139e-03,\n",
       "       -6.18215837e-02, -5.31510338e-02,  1.10428393e-01, -8.55510831e-02,\n",
       "       -4.30069976e-02,  5.49566522e-02, -2.71392837e-02, -5.74410744e-02,\n",
       "       -2.53000762e-04, -8.55225921e-02,  6.27142610e-03, -5.88938631e-02,\n",
       "       -8.52021948e-03,  5.72120659e-02,  1.65866166e-02, -1.72481239e-02,\n",
       "        3.29730734e-02,  3.01481504e-02,  4.14362997e-02, -1.66827776e-02,\n",
       "        5.25217429e-02,  1.02846973e-01,  8.76718611e-02,  6.28618002e-02,\n",
       "       -3.61549705e-02, -5.61861023e-02, -6.73916042e-02,  6.65860251e-03,\n",
       "        3.31459893e-03,  2.29663644e-02,  3.07500977e-02, -3.41181383e-02,\n",
       "       -2.52530146e-02, -7.89728239e-02,  7.77454078e-02,  1.76886953e-02,\n",
       "        8.21054354e-02, -3.41725051e-02, -5.92529848e-02, -1.28060635e-02,\n",
       "       -1.13162450e-01,  7.85257965e-02, -8.59513730e-02,  1.02413883e-02,\n",
       "        4.09174338e-02,  2.05089822e-02, -1.01287812e-01,  3.88739407e-02,\n",
       "        1.04579240e-01,  1.16577521e-02,  1.44512290e-02, -1.78307127e-02,\n",
       "        3.78718972e-02, -2.83826888e-03, -3.10319336e-03,  2.02783123e-02,\n",
       "       -6.53797714e-03, -8.08598846e-02, -6.00762889e-02, -3.84616069e-02,\n",
       "        5.07127792e-02, -3.44956554e-02, -9.14297774e-02,  5.19287251e-02,\n",
       "       -1.76368095e-02, -6.07296973e-02,  6.12069946e-03,  2.74119023e-02,\n",
       "       -6.10831380e-02,  2.13148370e-02, -8.02744180e-02, -3.97090353e-02,\n",
       "       -1.27834100e-02,  4.91104927e-03, -3.02108750e-02,  3.45473737e-02,\n",
       "       -1.65014761e-04,  3.19870785e-02,  2.36088708e-02,  1.32225290e-01,\n",
       "        6.58907816e-02, -3.50001827e-03,  1.31652337e-02, -6.16066158e-03,\n",
       "        3.07360906e-02, -1.80404242e-02,  2.94383671e-02, -5.08101797e-03,\n",
       "       -3.01781911e-02, -2.68463567e-02,  3.03437077e-02,  2.55364925e-02,\n",
       "        2.62215715e-02, -4.27077226e-02,  2.76564285e-02, -5.33079766e-02,\n",
       "       -6.36399444e-03,  3.30308937e-02,  1.74082629e-02, -3.67582925e-02,\n",
       "        2.62986608e-02, -2.00669169e-02, -1.32109318e-03, -2.93898582e-02,\n",
       "        4.41535302e-02,  5.73516004e-02, -1.76374614e-02,  4.37949151e-02,\n",
       "       -2.07080785e-03, -4.80123349e-02,  8.36336985e-02,  1.60496542e-03,\n",
       "       -5.25018051e-02, -1.17645785e-01, -1.80701185e-02,  8.01542075e-04,\n",
       "        4.01236154e-02, -8.29854421e-03, -4.83445339e-02, -1.00406632e-02,\n",
       "        2.05212105e-02,  1.09389171e-01, -4.63461429e-02,  4.24221950e-03,\n",
       "        2.89976317e-02,  2.34911442e-02,  1.56189110e-02,  2.37747543e-02,\n",
       "       -5.47814742e-03, -3.88901941e-02, -2.08526067e-02, -2.82398760e-02,\n",
       "        5.60384244e-04, -7.11322576e-02, -5.00327721e-02, -9.74734873e-02,\n",
       "       -3.33636254e-02,  4.62548900e-03, -4.33990844e-02,  8.25462677e-03,\n",
       "       -9.11309272e-02,  6.60275202e-03, -1.18755236e-01, -1.85446162e-02,\n",
       "        1.16319507e-01,  9.14146751e-02, -1.63971838e-02, -2.21525840e-02,\n",
       "        7.46901557e-02, -4.03304361e-02,  2.27244757e-02, -4.79155220e-04,\n",
       "       -5.99668175e-03,  1.44774523e-02,  5.83356172e-02,  1.28720552e-02,\n",
       "       -2.71836855e-02, -4.91183475e-02,  5.51255327e-03, -2.85569280e-02,\n",
       "        1.46020474e-02,  1.04876875e-03, -2.99647544e-02,  3.93811911e-02,\n",
       "       -2.84660868e-02, -1.67477727e-02,  4.13384996e-02,  1.70529485e-02,\n",
       "       -6.91963434e-02, -2.19995882e-02,  6.56561274e-03, -1.04638282e-04,\n",
       "        3.33625190e-02,  5.31362072e-02,  4.19139899e-02, -2.96015106e-02,\n",
       "       -9.09697190e-02,  1.67299416e-02, -9.98278148e-03, -8.42783786e-03,\n",
       "       -5.88220134e-02, -1.62892602e-02,  7.60421678e-02, -7.82915056e-02,\n",
       "       -7.66771957e-02, -5.12780324e-02,  2.78825611e-02,  2.16741711e-02,\n",
       "        2.26869024e-02,  3.71650271e-02,  4.23846245e-02,  4.63061668e-02,\n",
       "       -6.61806092e-02,  4.89042029e-02,  3.86711396e-02, -1.28251370e-02,\n",
       "       -8.12884271e-02,  4.75350171e-02,  7.23693073e-02, -1.60424188e-02,\n",
       "        5.32729290e-02,  4.39970568e-03,  1.93769336e-02, -1.34632915e-01,\n",
       "        6.76368549e-02,  2.66613811e-02,  6.72086654e-03,  6.51931912e-02,\n",
       "        8.00187886e-02, -5.53529188e-02, -7.74192363e-02,  2.81922501e-02,\n",
       "        1.38782226e-02, -3.49779651e-02,  5.61795942e-02,  1.88787207e-02,\n",
       "       -3.72663476e-02, -1.96602531e-02,  4.38545495e-02,  3.82840559e-02,\n",
       "       -3.94199528e-02, -9.39915478e-02,  6.42438652e-03, -5.25191985e-02,\n",
       "        3.62735502e-02,  2.45860498e-02,  1.20993359e-02, -1.03791200e-01,\n",
       "        8.59735161e-03,  1.34351244e-02,  1.10112447e-02, -2.85298936e-02,\n",
       "        7.85843506e-02,  4.09670882e-02,  5.05647585e-02, -3.51715274e-02,\n",
       "       -3.54590006e-02, -3.18785757e-02, -1.11130476e-02,  8.82878378e-02,\n",
       "       -6.28444403e-02,  5.40826544e-02, -1.20734656e-02, -7.79609308e-02,\n",
       "       -2.36459617e-02, -5.27316444e-02,  6.32764548e-02,  3.00364755e-02,\n",
       "        3.84215675e-02, -2.59445291e-02, -2.91483998e-02, -2.20142975e-02,\n",
       "       -6.91073760e-02, -7.74296746e-02,  4.92506772e-02, -3.27172168e-02,\n",
       "        9.59532782e-02,  4.23865058e-02, -8.36244673e-02, -3.81422900e-02,\n",
       "        4.76139411e-02, -6.91337064e-02, -8.78794957e-03,  5.51895760e-02,\n",
       "        2.10872963e-02,  4.22856770e-02,  8.86789411e-02, -2.69418322e-02,\n",
       "       -1.47196911e-02, -6.86944323e-03,  8.16865079e-03,  6.36168569e-02,\n",
       "        2.86563928e-03,  1.62073169e-02, -1.96629260e-02, -5.36186919e-02,\n",
       "       -6.40467033e-02, -3.86027172e-02,  9.46280658e-02, -6.02455065e-02,\n",
       "        4.04743366e-02, -1.53812696e-03, -4.05878611e-02, -7.36183226e-02,\n",
       "        1.26514167e-01,  3.14980969e-02,  1.30599868e-02,  7.75876492e-02,\n",
       "        7.97975436e-02,  3.37355696e-02,  8.99505392e-02,  1.06252404e-02,\n",
       "       -2.21895855e-02, -4.62955795e-02, -5.91957569e-02, -3.08062173e-02],\n",
       "      dtype=float32)"
      ]
     },
     "execution_count": 145,
     "metadata": {
      "tags": []
     },
     "output_type": "execute_result"
    }
   ],
   "source": [
    "vectors[0]"
   ]
  },
  {
   "cell_type": "code",
   "execution_count": 150,
   "metadata": {
    "colab": {},
    "colab_type": "code",
    "executionInfo": {
     "elapsed": 1346,
     "status": "ok",
     "timestamp": 1595806240181,
     "user": {
      "displayName": "kunal jain",
      "photoUrl": "https://lh3.googleusercontent.com/a-/AOh14GhJmDwfUH7SYqmJEVfeaie-qShVuFAR3LrgWe_iow=s64",
      "userId": "04911494507403859258"
     },
     "user_tz": -330
    },
    "id": "2dlyq983a7Da"
   },
   "outputs": [],
   "source": [
    "#LDA approach\n",
    "lda_data=pd.DataFrame(train_data,columns=[\"Customer tweet\"])"
   ]
  },
  {
   "cell_type": "code",
   "execution_count": 151,
   "metadata": {
    "colab": {},
    "colab_type": "code",
    "executionInfo": {
     "elapsed": 1751,
     "status": "ok",
     "timestamp": 1595806286268,
     "user": {
      "displayName": "kunal jain",
      "photoUrl": "https://lh3.googleusercontent.com/a-/AOh14GhJmDwfUH7SYqmJEVfeaie-qShVuFAR3LrgWe_iow=s64",
      "userId": "04911494507403859258"
     },
     "user_tz": -330
    },
    "id": "j7u-k-TSdo1i"
   },
   "outputs": [],
   "source": [
    "lda_data['index'] = lda_data.index\n",
    "documents = lda_data"
   ]
  },
  {
   "cell_type": "code",
   "execution_count": 152,
   "metadata": {
    "colab": {
     "base_uri": "https://localhost:8080/",
     "height": 136
    },
    "colab_type": "code",
    "executionInfo": {
     "elapsed": 743,
     "status": "ok",
     "timestamp": 1595806296020,
     "user": {
      "displayName": "kunal jain",
      "photoUrl": "https://lh3.googleusercontent.com/a-/AOh14GhJmDwfUH7SYqmJEVfeaie-qShVuFAR3LrgWe_iow=s64",
      "userId": "04911494507403859258"
     },
     "user_tz": -330
    },
    "id": "-X1G5LKDd3p9",
    "outputId": "a3596155-0f6e-49d9-d74d-8a003a17062a"
   },
   "outputs": [
    {
     "name": "stdout",
     "output_type": "stream",
     "text": [
      "726581\n",
      "                                      Customer tweet  index\n",
      "0                             worst customer service      0\n",
      "1   y’all lie “great” connection  bar lte still w...      1\n",
      "2   whenever contact customer support tell shortc...      2\n",
      "3  actually thats broken link sent incorrect info...      3\n",
      "4  yo askspectrum customer service rep super nice...      4\n"
     ]
    }
   ],
   "source": [
    "print(len(documents))\n",
    "print(documents[:5])"
   ]
  },
  {
   "cell_type": "code",
   "execution_count": 153,
   "metadata": {
    "colab": {},
    "colab_type": "code",
    "executionInfo": {
     "elapsed": 1054,
     "status": "ok",
     "timestamp": 1595806395007,
     "user": {
      "displayName": "kunal jain",
      "photoUrl": "https://lh3.googleusercontent.com/a-/AOh14GhJmDwfUH7SYqmJEVfeaie-qShVuFAR3LrgWe_iow=s64",
      "userId": "04911494507403859258"
     },
     "user_tz": -330
    },
    "id": "PgP2wds-d6Q6"
   },
   "outputs": [],
   "source": [
    "def preprocess(text):\n",
    "    result = []\n",
    "    for token in gensim.utils.simple_preprocess(text):\n",
    "        if token not in gensim.parsing.preprocessing.STOPWORDS and len(token) > 3:\n",
    "            result.append(token)\n",
    "    return result"
   ]
  },
  {
   "cell_type": "code",
   "execution_count": 154,
   "metadata": {
    "colab": {
     "base_uri": "https://localhost:8080/",
     "height": 119
    },
    "colab_type": "code",
    "executionInfo": {
     "elapsed": 1544,
     "status": "ok",
     "timestamp": 1595806411487,
     "user": {
      "displayName": "kunal jain",
      "photoUrl": "https://lh3.googleusercontent.com/a-/AOh14GhJmDwfUH7SYqmJEVfeaie-qShVuFAR3LrgWe_iow=s64",
      "userId": "04911494507403859258"
     },
     "user_tz": -330
    },
    "id": "ljNGMNN4eSW7",
    "outputId": "af286b8c-dd72-43c0-e0d1-157a6af90831"
   },
   "outputs": [
    {
     "name": "stdout",
     "output_type": "stream",
     "text": [
      "original document: \n",
      "['', 'doesnt', '', 'carry', 'oann', 'tell', 'call', '', 'ask', 'please', 'dm', 'thanks', 'httpstcouuhhvxxv']\n",
      "\n",
      "\n",
      " tokenized and lemmatized document: \n",
      "['doesnt', 'carry', 'oann', 'tell', 'thanks']\n"
     ]
    }
   ],
   "source": [
    "doc_sample = documents[documents['index'] == 4310].values[0][0]\n",
    "print('original document: ')\n",
    "words = []\n",
    "for word in doc_sample.split(' '):\n",
    "    words.append(word)\n",
    "print(words)\n",
    "print('\\n\\n tokenized and lemmatized document: ')\n",
    "print(preprocess(doc_sample))"
   ]
  },
  {
   "cell_type": "code",
   "execution_count": 155,
   "metadata": {
    "colab": {
     "base_uri": "https://localhost:8080/",
     "height": 204
    },
    "colab_type": "code",
    "executionInfo": {
     "elapsed": 17540,
     "status": "ok",
     "timestamp": 1595806484755,
     "user": {
      "displayName": "kunal jain",
      "photoUrl": "https://lh3.googleusercontent.com/a-/AOh14GhJmDwfUH7SYqmJEVfeaie-qShVuFAR3LrgWe_iow=s64",
      "userId": "04911494507403859258"
     },
     "user_tz": -330
    },
    "id": "5Q6BOpameWR5",
    "outputId": "f92b2e61-e17a-4014-8ab0-f43b8a517de0"
   },
   "outputs": [
    {
     "data": {
      "text/plain": [
       "0                           [worst, customer, service]\n",
       "1                            [great, connection, load]\n",
       "2    [contact, customer, support, tell, shortcode, ...\n",
       "3    [actually, thats, broken, link, sent, incorrec...\n",
       "4    [askspectrum, customer, service, super, nice, ...\n",
       "5                [picture, askspectrum, pretty, month]\n",
       "6    [somebody, verizonsupport, help, meeeeee, wors...\n",
       "7    [verizonsupport, friend, internet, need, play,...\n",
       "8                                              [worst]\n",
       "9     [verizonsupport, gtall, verizon, downlt, expect]\n",
       "Name: Customer tweet, dtype: object"
      ]
     },
     "execution_count": 155,
     "metadata": {
      "tags": []
     },
     "output_type": "execute_result"
    }
   ],
   "source": [
    "processed_docs = documents['Customer tweet'].map(preprocess)\n",
    "processed_docs[:10]"
   ]
  },
  {
   "cell_type": "code",
   "execution_count": 156,
   "metadata": {
    "colab": {
     "base_uri": "https://localhost:8080/",
     "height": 204
    },
    "colab_type": "code",
    "executionInfo": {
     "elapsed": 12093,
     "status": "ok",
     "timestamp": 1595806537911,
     "user": {
      "displayName": "kunal jain",
      "photoUrl": "https://lh3.googleusercontent.com/a-/AOh14GhJmDwfUH7SYqmJEVfeaie-qShVuFAR3LrgWe_iow=s64",
      "userId": "04911494507403859258"
     },
     "user_tz": -330
    },
    "id": "P_SuQprCekQj",
    "outputId": "97dd699d-f2de-4432-dc05-2a64fb7d650e"
   },
   "outputs": [
    {
     "name": "stdout",
     "output_type": "stream",
     "text": [
      "0 customer\n",
      "1 service\n",
      "2 worst\n",
      "3 connection\n",
      "4 great\n",
      "5 load\n",
      "6 account\n",
      "7 contact\n",
      "8 enabled\n",
      "9 httpstcogrtnxpk\n",
      "10 shortcode\n"
     ]
    }
   ],
   "source": [
    "dictionary = gensim.corpora.Dictionary(processed_docs)\n",
    "count = 0\n",
    "for k, v in dictionary.iteritems():\n",
    "    print(k, v)\n",
    "    count += 1\n",
    "    if count > 10:\n",
    "        break"
   ]
  },
  {
   "cell_type": "code",
   "execution_count": 157,
   "metadata": {
    "colab": {},
    "colab_type": "code",
    "executionInfo": {
     "elapsed": 1070,
     "status": "ok",
     "timestamp": 1595806583312,
     "user": {
      "displayName": "kunal jain",
      "photoUrl": "https://lh3.googleusercontent.com/a-/AOh14GhJmDwfUH7SYqmJEVfeaie-qShVuFAR3LrgWe_iow=s64",
      "userId": "04911494507403859258"
     },
     "user_tz": -330
    },
    "id": "N61S68wjeykC"
   },
   "outputs": [],
   "source": [
    "dictionary.filter_extremes(no_below=15, no_above=0.5, keep_n=100000)"
   ]
  },
  {
   "cell_type": "code",
   "execution_count": 158,
   "metadata": {
    "colab": {
     "base_uri": "https://localhost:8080/",
     "height": 34
    },
    "colab_type": "code",
    "executionInfo": {
     "elapsed": 11080,
     "status": "ok",
     "timestamp": 1595806653477,
     "user": {
      "displayName": "kunal jain",
      "photoUrl": "https://lh3.googleusercontent.com/a-/AOh14GhJmDwfUH7SYqmJEVfeaie-qShVuFAR3LrgWe_iow=s64",
      "userId": "04911494507403859258"
     },
     "user_tz": -330
    },
    "id": "0m11pzz6fAVE",
    "outputId": "ca5968fe-d178-4f08-d447-a409a27f1cb5"
   },
   "outputs": [
    {
     "data": {
      "text/plain": [
       "[(10, 1), (300, 1), (580, 1), (665, 1)]"
      ]
     },
     "execution_count": 158,
     "metadata": {
      "tags": []
     },
     "output_type": "execute_result"
    }
   ],
   "source": [
    "bow_corpus = [dictionary.doc2bow(doc) for doc in processed_docs]\n",
    "bow_corpus[4310]"
   ]
  },
  {
   "cell_type": "code",
   "execution_count": 159,
   "metadata": {
    "colab": {
     "base_uri": "https://localhost:8080/",
     "height": 85
    },
    "colab_type": "code",
    "executionInfo": {
     "elapsed": 1132,
     "status": "ok",
     "timestamp": 1595806663287,
     "user": {
      "displayName": "kunal jain",
      "photoUrl": "https://lh3.googleusercontent.com/a-/AOh14GhJmDwfUH7SYqmJEVfeaie-qShVuFAR3LrgWe_iow=s64",
      "userId": "04911494507403859258"
     },
     "user_tz": -330
    },
    "id": "pYTonOm1fPBn",
    "outputId": "3b45d531-5047-49c3-e0c2-30baa0d3a2ef"
   },
   "outputs": [
    {
     "name": "stdout",
     "output_type": "stream",
     "text": [
      "Word 10 (\"tell\") appears 1 time.\n",
      "Word 300 (\"thanks\") appears 1 time.\n",
      "Word 580 (\"doesnt\") appears 1 time.\n",
      "Word 665 (\"carry\") appears 1 time.\n"
     ]
    }
   ],
   "source": [
    "bow_doc_4310 = bow_corpus[4310]\n",
    "for i in range(len(bow_doc_4310)):\n",
    "    print(\"Word {} (\\\"{}\\\") appears {} time.\".format(bow_doc_4310[i][0], \n",
    "                                               dictionary[bow_doc_4310[i][0]], \n",
    "bow_doc_4310[i][1]))"
   ]
  },
  {
   "cell_type": "code",
   "execution_count": 160,
   "metadata": {
    "colab": {
     "base_uri": "https://localhost:8080/",
     "height": 34
    },
    "colab_type": "code",
    "executionInfo": {
     "elapsed": 2158,
     "status": "ok",
     "timestamp": 1595806698817,
     "user": {
      "displayName": "kunal jain",
      "photoUrl": "https://lh3.googleusercontent.com/a-/AOh14GhJmDwfUH7SYqmJEVfeaie-qShVuFAR3LrgWe_iow=s64",
      "userId": "04911494507403859258"
     },
     "user_tz": -330
    },
    "id": "TcdBxSXqfT2G",
    "outputId": "a60ff0ab-2194-4e84-fac8-e84fe9e11559"
   },
   "outputs": [
    {
     "name": "stdout",
     "output_type": "stream",
     "text": [
      "[(0, 0.518394030928141), (1, 0.4490495779578608), (2, 0.7277514034572112)]\n"
     ]
    }
   ],
   "source": [
    "from gensim import corpora, models\n",
    "tfidf = models.TfidfModel(bow_corpus)\n",
    "corpus_tfidf = tfidf[bow_corpus]\n",
    "from pprint import pprint\n",
    "for doc in corpus_tfidf:\n",
    "    pprint(doc)\n",
    "    break"
   ]
  },
  {
   "cell_type": "code",
   "execution_count": 161,
   "metadata": {
    "colab": {},
    "colab_type": "code",
    "executionInfo": {
     "elapsed": 401809,
     "status": "ok",
     "timestamp": 1595807115856,
     "user": {
      "displayName": "kunal jain",
      "photoUrl": "https://lh3.googleusercontent.com/a-/AOh14GhJmDwfUH7SYqmJEVfeaie-qShVuFAR3LrgWe_iow=s64",
      "userId": "04911494507403859258"
     },
     "user_tz": -330
    },
    "id": "FopQvdDSfcP7"
   },
   "outputs": [],
   "source": [
    "lda_model = gensim.models.LdaMulticore(bow_corpus, num_topics=10, id2word=dictionary, passes=2, workers=2)"
   ]
  },
  {
   "cell_type": "code",
   "execution_count": 162,
   "metadata": {
    "colab": {
     "base_uri": "https://localhost:8080/",
     "height": 377
    },
    "colab_type": "code",
    "executionInfo": {
     "elapsed": 1123,
     "status": "ok",
     "timestamp": 1595807163844,
     "user": {
      "displayName": "kunal jain",
      "photoUrl": "https://lh3.googleusercontent.com/a-/AOh14GhJmDwfUH7SYqmJEVfeaie-qShVuFAR3LrgWe_iow=s64",
      "userId": "04911494507403859258"
     },
     "user_tz": -330
    },
    "id": "Y_SX9sAjfghG",
    "outputId": "0b2f8e50-1577-4b77-8f5a-cbff08ac07bc"
   },
   "outputs": [
    {
     "name": "stdout",
     "output_type": "stream",
     "text": [
      "Topic: 0 \n",
      "Words: 0.037*\"chipotletweets\" + 0.020*\"safaricomcare\" + 0.010*\"line\" + 0.009*\"case\" + 0.009*\"greggsofficial\" + 0.009*\"chicken\" + 0.008*\"askebay\" + 0.008*\"data\" + 0.008*\"chipotle\" + 0.007*\"kindly\"\n",
      "Topic: 1 \n",
      "Words: 0.034*\"game\" + 0.025*\"xboxsupport\" + 0.019*\"live\" + 0.019*\"watch\" + 0.018*\"xbox\" + 0.017*\"hulusupport\" + 0.017*\"atviassist\" + 0.012*\"available\" + 0.012*\"play\" + 0.010*\"hulu\"\n",
      "Topic: 2 \n",
      "Words: 0.034*\"tesco\" + 0.029*\"store\" + 0.019*\"free\" + 0.018*\"bought\" + 0.017*\"christmas\" + 0.016*\"year\" + 0.015*\"price\" + 0.013*\"aldiuk\" + 0.012*\"offer\" + 0.011*\"morrison\"\n",
      "Topic: 3 \n",
      "Words: 0.083*\"service\" + 0.059*\"customer\" + 0.026*\"internet\" + 0.016*\"time\" + 0.015*\"worst\" + 0.014*\"askspectrum\" + 0.013*\"phone\" + 0.010*\"company\" + 0.010*\"month\" + 0.009*\"care\"\n",
      "Topic: 4 \n",
      "Words: 0.035*\"driver\" + 0.022*\"ubersupport\" + 0.017*\"charged\" + 0.016*\"money\" + 0.015*\"uber\" + 0.015*\"card\" + 0.015*\"minute\" + 0.013*\"time\" + 0.013*\"charge\" + 0.013*\"ride\"\n",
      "Topic: 5 \n",
      "Words: 0.049*\"order\" + 0.037*\"delivery\" + 0.032*\"package\" + 0.031*\"amazonhelp\" + 0.026*\"amazon\" + 0.019*\"delivered\" + 0.018*\"today\" + 0.018*\"item\" + 0.017*\"prime\" + 0.016*\"upshelp\"\n",
      "Topic: 6 \n",
      "Words: 0.021*\"shit\" + 0.021*\"like\" + 0.020*\"music\" + 0.020*\"fucking\" + 0.016*\"fuck\" + 0.015*\"spotifycares\" + 0.013*\"song\" + 0.013*\"yall\" + 0.011*\"hate\" + 0.011*\"spotify\"\n",
      "Topic: 7 \n",
      "Words: 0.061*\"help\" + 0.037*\"account\" + 0.024*\"email\" + 0.023*\"need\" + 0.019*\"trying\" + 0.017*\"number\" + 0.012*\"tried\" + 0.011*\"code\" + 0.011*\"website\" + 0.011*\"askplaystation\"\n",
      "Topic: 8 \n",
      "Words: 0.070*\"applesupport\" + 0.048*\"phone\" + 0.038*\"iphone\" + 0.036*\"update\" + 0.017*\"apple\" + 0.014*\"time\" + 0.013*\"screen\" + 0.011*\"work\" + 0.010*\"battery\" + 0.010*\"issue\"\n",
      "Topic: 9 \n",
      "Words: 0.054*\"flight\" + 0.030*\"delta\" + 0.028*\"americanair\" + 0.026*\"southwestair\" + 0.018*\"britishairways\" + 0.015*\"thanks\" + 0.014*\"virgintrains\" + 0.013*\"ticket\" + 0.013*\"train\" + 0.012*\"seat\"\n"
     ]
    }
   ],
   "source": [
    "for idx, topic in lda_model.print_topics(-1):\n",
    "    print('Topic: {} \\nWords: {}'.format(idx, topic))"
   ]
  },
  {
   "cell_type": "code",
   "execution_count": 167,
   "metadata": {
    "colab": {
     "base_uri": "https://localhost:8080/",
     "height": 52
    },
    "colab_type": "code",
    "executionInfo": {
     "elapsed": 1169,
     "status": "ok",
     "timestamp": 1595807352453,
     "user": {
      "displayName": "kunal jain",
      "photoUrl": "https://lh3.googleusercontent.com/a-/AOh14GhJmDwfUH7SYqmJEVfeaie-qShVuFAR3LrgWe_iow=s64",
      "userId": "04911494507403859258"
     },
     "user_tz": -330
    },
    "id": "1XlvwyMVhOD3",
    "outputId": "5d3c40b7-5531-4b06-f77d-7758f453cb72"
   },
   "outputs": [
    {
     "data": {
      "application/vnd.google.colaboratory.intrinsic+json": {
       "type": "string"
      },
      "text/plain": [
       "'0.037*\"chipotletweets\" + 0.020*\"safaricomcare\" + 0.010*\"line\" + 0.009*\"case\" + 0.009*\"greggsofficial\" + 0.009*\"chicken\" + 0.008*\"askebay\" + 0.008*\"data\" + 0.008*\"chipotle\" + 0.007*\"kindly\"'"
      ]
     },
     "execution_count": 167,
     "metadata": {
      "tags": []
     },
     "output_type": "execute_result"
    }
   ],
   "source": [
    "lda_model.print_topic(0)"
   ]
  },
  {
   "cell_type": "code",
   "execution_count": 168,
   "metadata": {
    "colab": {
     "base_uri": "https://localhost:8080/",
     "height": 217
    },
    "colab_type": "code",
    "executionInfo": {
     "elapsed": 54723,
     "status": "ok",
     "timestamp": 1595807940459,
     "user": {
      "displayName": "kunal jain",
      "photoUrl": "https://lh3.googleusercontent.com/a-/AOh14GhJmDwfUH7SYqmJEVfeaie-qShVuFAR3LrgWe_iow=s64",
      "userId": "04911494507403859258"
     },
     "user_tz": -330
    },
    "id": "pDv3vhXLhpp3",
    "outputId": "beb87c8b-0535-413f-9337-3c9e1b19c8a1"
   },
   "outputs": [
    {
     "data": {
      "image/png": "[encoded data removed]",
      "text/plain": [
       "<PIL.Image.Image image mode=RGB size=400x200 at 0x7FBAFC3C3F60>"
      ]
     },
     "execution_count": 168,
     "metadata": {
      "tags": []
     },
     "output_type": "execute_result"
    }
   ],
   "source": [
    "# Import the wordcloud library\n",
    "from wordcloud import WordCloud\n",
    "# Join the different processed titles together.\n",
    "long_string = ','.join(list(df_IO['text_x'].values))\n",
    "# Create a WordCloud object\n",
    "wordcloud = WordCloud(background_color=\"white\", max_words=5000, contour_width=3, contour_color='steelblue')\n",
    "# Generate a word cloud\n",
    "wordcloud.generate(long_string)\n",
    "# Visualize the word cloud\n",
    "wordcloud.to_image()"
   ]
  },
  {
   "cell_type": "code",
   "execution_count": 169,
   "metadata": {
    "colab": {
     "base_uri": "https://localhost:8080/",
     "height": 637
    },
    "colab_type": "code",
    "executionInfo": {
     "elapsed": 977931,
     "status": "ok",
     "timestamp": 1595809013414,
     "user": {
      "displayName": "kunal jain",
      "photoUrl": "https://lh3.googleusercontent.com/a-/AOh14GhJmDwfUH7SYqmJEVfeaie-qShVuFAR3LrgWe_iow=s64",
      "userId": "04911494507403859258"
     },
     "user_tz": -330
    },
    "id": "n2H3TPmdj-jo",
    "outputId": "8c85f506-7c5c-497d-958f-02ba69d52d0f"
   },
   "outputs": [
    {
     "data": {
      "image/png": "[encoded data removed]",
      "text/plain": [
       "<Figure size 1080x667.491 with 1 Axes>"
      ]
     },
     "metadata": {
      "needs_background": "light",
      "tags": []
     },
     "output_type": "display_data"
    }
   ],
   "source": [
    "# Load the library with the CountVectorizer method\n",
    "from sklearn.feature_extraction.text import CountVectorizer\n",
    "\n",
    "sns.set_style('whitegrid')\n",
    "%matplotlib inline\n",
    "# Helper function\n",
    "def plot_10_most_common_words(count_data, count_vectorizer):\n",
    "    \n",
    "    words = count_vectorizer.get_feature_names()\n",
    "    total_counts = np.zeros(len(words))\n",
    "    for t in count_data:\n",
    "        total_counts+=t.toarray()[0]\n",
    "    \n",
    "    count_dict = (zip(words, total_counts))\n",
    "    count_dict = sorted(count_dict, key=lambda x:x[1], reverse=True)[0:10]\n",
    "    \n",
    "    words = [w[0] for w in count_dict]\n",
    "    counts = [w[1] for w in count_dict]\n",
    "    \n",
    "    x_pos = np.arange(len(words)) \n",
    "    \n",
    "    plt.figure(2, figsize=(15, 15/1.6180))\n",
    "    plt.subplot(title='10 most common words')\n",
    "    sns.set_context(\"notebook\", font_scale=1.25, rc={\"lines.linewidth\": 2.5})\n",
    "    sns.barplot(x_pos, counts, palette='husl')\n",
    "    plt.xticks(x_pos, words, rotation=90) \n",
    "    plt.xlabel('words')\n",
    "    plt.ylabel('counts')\n",
    "    plt.show()\n",
    "# Initialise the count vectorizer with the English stop words\n",
    "count_vectorizer = CountVectorizer(stop_words='english')\n",
    "# Fit and transform the processed titles\n",
    "count_data = count_vectorizer.fit_transform(df_IO['text_x'])\n",
    "# Visualise the 10 most common words\n",
    "plot_10_most_common_words(count_data, count_vectorizer)\n"
   ]
  },
  {
   "cell_type": "markdown",
   "metadata": {
    "colab_type": "text",
    "id": "ZB4kBDsnrE9C"
   },
   "source": [
    "Sentiment analyzer using nltk's SentimentIntensityAnalyzer"
   ]
  },
  {
   "cell_type": "code",
   "execution_count": 171,
   "metadata": {
    "colab": {
     "base_uri": "https://localhost:8080/",
     "height": 50
    },
    "colab_type": "code",
    "executionInfo": {
     "elapsed": 1082,
     "status": "ok",
     "timestamp": 1595809580893,
     "user": {
      "displayName": "kunal jain",
      "photoUrl": "https://lh3.googleusercontent.com/a-/AOh14GhJmDwfUH7SYqmJEVfeaie-qShVuFAR3LrgWe_iow=s64",
      "userId": "04911494507403859258"
     },
     "user_tz": -330
    },
    "id": "DIDjdlw8ohbT",
    "outputId": "5a9ebbe8-e5d9-40b2-bbf7-c7c02298e541"
   },
   "outputs": [
    {
     "name": "stderr",
     "output_type": "stream",
     "text": [
      "/usr/local/lib/python3.6/dist-packages/nltk/twitter/__init__.py:20: UserWarning: The twython library has not been installed. Some functionality from the twitter package will not be available.\n",
      "  warnings.warn(\"The twython library has not been installed. \"\n"
     ]
    }
   ],
   "source": [
    "from nltk.sentiment.vader import SentimentIntensityAnalyzer"
   ]
  },
  {
   "cell_type": "code",
   "execution_count": 173,
   "metadata": {
    "colab": {
     "base_uri": "https://localhost:8080/",
     "height": 50
    },
    "colab_type": "code",
    "executionInfo": {
     "elapsed": 1157,
     "status": "ok",
     "timestamp": 1595809611429,
     "user": {
      "displayName": "kunal jain",
      "photoUrl": "https://lh3.googleusercontent.com/a-/AOh14GhJmDwfUH7SYqmJEVfeaie-qShVuFAR3LrgWe_iow=s64",
      "userId": "04911494507403859258"
     },
     "user_tz": -330
    },
    "id": "9JnaqV-TqjKg",
    "outputId": "9c77d575-9eba-4a0a-ae60-bc5b2efd10ff"
   },
   "outputs": [
    {
     "name": "stdout",
     "output_type": "stream",
     "text": [
      "[nltk_data] Downloading package vader_lexicon to /root/nltk_data...\n"
     ]
    },
    {
     "data": {
      "text/plain": [
       "True"
      ]
     },
     "execution_count": 173,
     "metadata": {
      "tags": []
     },
     "output_type": "execute_result"
    }
   ],
   "source": [
    "nltk.download('vader_lexicon')"
   ]
  },
  {
   "cell_type": "code",
   "execution_count": 174,
   "metadata": {
    "colab": {
     "base_uri": "https://localhost:8080/",
     "height": 33
    },
    "colab_type": "code",
    "executionInfo": {
     "elapsed": 1793,
     "status": "ok",
     "timestamp": 1595809616136,
     "user": {
      "displayName": "kunal jain",
      "photoUrl": "https://lh3.googleusercontent.com/a-/AOh14GhJmDwfUH7SYqmJEVfeaie-qShVuFAR3LrgWe_iow=s64",
      "userId": "04911494507403859258"
     },
     "user_tz": -330
    },
    "id": "T4PB7ecQqcJv",
    "outputId": "f04d22b7-c4c7-4587-dcd9-5254dd81a01a"
   },
   "outputs": [
    {
     "data": {
      "text/plain": [
       "0.6696"
      ]
     },
     "execution_count": 174,
     "metadata": {
      "tags": []
     },
     "output_type": "execute_result"
    }
   ],
   "source": [
    "# Instantiate sentiment analyzer from NLTK, make helper function\n",
    "sentiment_analyzer = SentimentIntensityAnalyzer()\n",
    "\n",
    "def sentiment_for(text: str) -> float:\n",
    "    return sentiment_analyzer.polarity_scores(text)['compound']\n",
    "\n",
    "sentiment_for('I love it!')"
   ]
  },
  {
   "cell_type": "code",
   "execution_count": 175,
   "metadata": {
    "colab": {
     "base_uri": "https://localhost:8080/",
     "height": 33
    },
    "colab_type": "code",
    "executionInfo": {
     "elapsed": 129733,
     "status": "ok",
     "timestamp": 1595809787350,
     "user": {
      "displayName": "kunal jain",
      "photoUrl": "https://lh3.googleusercontent.com/a-/AOh14GhJmDwfUH7SYqmJEVfeaie-qShVuFAR3LrgWe_iow=s64",
      "userId": "04911494507403859258"
     },
     "user_tz": -330
    },
    "id": "hfKkRBGJqg4-",
    "outputId": "e1eb1fd0-781f-470a-e439-8fb5f7ec4aeb"
   },
   "outputs": [
    {
     "name": "stderr",
     "output_type": "stream",
     "text": [
      "progress-bar: 100%|██████████| 726581/726581 [02:08<00:00, 5642.18it/s]\n"
     ]
    }
   ],
   "source": [
    "# Analyze sentiment of inbound customer support requests\n",
    "df_IO['inbound_sentiment'] = df_IO.text_x.progress_apply(sentiment_for)"
   ]
  },
  {
   "cell_type": "code",
   "execution_count": 178,
   "metadata": {
    "colab": {},
    "colab_type": "code",
    "executionInfo": {
     "elapsed": 2139,
     "status": "ok",
     "timestamp": 1595809934101,
     "user": {
      "displayName": "kunal jain",
      "photoUrl": "https://lh3.googleusercontent.com/a-/AOh14GhJmDwfUH7SYqmJEVfeaie-qShVuFAR3LrgWe_iow=s64",
      "userId": "04911494507403859258"
     },
     "user_tz": -330
    },
    "id": "MrX0n12frfy8"
   },
   "outputs": [],
   "source": [
    "author_grouped = df_IO.groupby('author_id_y')\n",
    "top_support_providers = set(author_grouped.agg('count')\n",
    "                                .sort_values(['text_x'], ascending=[0])\n",
    "                                .index[:20]\n",
    "                                .values)"
   ]
  },
  {
   "cell_type": "code",
   "execution_count": 183,
   "metadata": {
    "colab": {
     "base_uri": "https://localhost:8080/",
     "height": 288
    },
    "colab_type": "code",
    "executionInfo": {
     "elapsed": 1764,
     "status": "ok",
     "timestamp": 1595810065515,
     "user": {
      "displayName": "kunal jain",
      "photoUrl": "https://lh3.googleusercontent.com/a-/AOh14GhJmDwfUH7SYqmJEVfeaie-qShVuFAR3LrgWe_iow=s64",
      "userId": "04911494507403859258"
     },
     "user_tz": -330
    },
    "id": "k0XIKyDyqvJo",
    "outputId": "3c8eab50-c756-460b-a16e-5e34955c8854"
   },
   "outputs": [
    {
     "data": {
      "text/plain": [
       "<matplotlib.axes._subplots.AxesSubplot at 0x7fbafb0ac0f0>"
      ]
     },
     "execution_count": 183,
     "metadata": {
      "tags": []
     },
     "output_type": "execute_result"
    },
    {
     "data": {
      "image/png": "[encoded data removed]",
      "text/plain": [
       "<Figure size 432x288 with 1 Axes>"
      ]
     },
     "metadata": {
      "needs_background": "light",
      "tags": []
     },
     "output_type": "display_data"
    }
   ],
   "source": [
    "#Graph based on sentiment \n",
    "df_IO.loc[df_IO.author_id_y.isin(top_support_providers)].groupby('author_id_y').inbound_sentiment.mean().sort_values().plot(kind='barh')"
   ]
  },
  {
   "cell_type": "code",
   "execution_count": null,
   "metadata": {
    "colab": {},
    "colab_type": "code",
    "id": "2bWva46Sr19P"
   },
   "outputs": [],
   "source": [
    "df_IO[df_IO['inbound_sentiment']<0.5].count()"
   ]
  },
  {
   "cell_type": "code",
   "execution_count": null,
   "metadata": {
    "colab": {},
    "colab_type": "code",
    "id": "eS5JgIAgssYV"
   },
   "outputs": [],
   "source": []
  }
 ],
 "metadata": {
  "colab": {
   "authorship_tag": "ABX9TyN/vfWlOmecZj1ESg0/kbAW",
   "mount_file_id": "1fRui-1Fd8oYdeK5wFnw8-SHQtqFwdLn7",
   "name": "TwitterTweetsAnalysis.ipynb",
   "provenance": []
  },
  "kernelspec": {
   "display_name": "Python 3",
   "language": "python",
   "name": "python3"
  },
  "language_info": {
   "codemirror_mode": {
    "name": "ipython",
    "version": 3
   },
   "file_extension": ".py",
   "mimetype": "text/x-python",
   "name": "python",
   "nbconvert_exporter": "python",
   "pygments_lexer": "ipython3",
   "version": "3.6.5"
  }
 },
 "nbformat": 4,
 "nbformat_minor": 1
}
